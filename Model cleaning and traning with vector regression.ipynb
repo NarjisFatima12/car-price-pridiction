{
 "cells": [
  {
   "cell_type": "code",
   "execution_count": 1,
   "id": "688dc79c",
   "metadata": {},
   "outputs": [],
   "source": [
    "import pandas as pd\n",
    "import numpy as np\n",
    "from sklearn.pipeline import Pipeline\n",
    "from sklearn.model_selection import train_test_split\n",
    "from sklearn.preprocessing import StandardScaler\n",
    "import joblib"
   ]
  },
  {
   "cell_type": "markdown",
   "id": "a4bf5e2c",
   "metadata": {},
   "source": [
    "### Load dataset"
   ]
  },
  {
   "cell_type": "code",
   "execution_count": 2,
   "id": "c5400e84",
   "metadata": {},
   "outputs": [],
   "source": [
    "df = pd.read_csv('dataset/used_cars.csv')"
   ]
  },
  {
   "cell_type": "markdown",
   "id": "eaeb1192",
   "metadata": {},
   "source": [
    "### Data Analysis"
   ]
  },
  {
   "cell_type": "code",
   "execution_count": 3,
   "id": "4ee04b8d",
   "metadata": {},
   "outputs": [
    {
     "data": {
      "text/html": [
       "<div>\n",
       "<style scoped>\n",
       "    .dataframe tbody tr th:only-of-type {\n",
       "        vertical-align: middle;\n",
       "    }\n",
       "\n",
       "    .dataframe tbody tr th {\n",
       "        vertical-align: top;\n",
       "    }\n",
       "\n",
       "    .dataframe thead th {\n",
       "        text-align: right;\n",
       "    }\n",
       "</style>\n",
       "<table border=\"1\" class=\"dataframe\">\n",
       "  <thead>\n",
       "    <tr style=\"text-align: right;\">\n",
       "      <th></th>\n",
       "      <th>brand</th>\n",
       "      <th>model</th>\n",
       "      <th>model_year</th>\n",
       "      <th>milage</th>\n",
       "      <th>fuel_type</th>\n",
       "      <th>engine</th>\n",
       "      <th>transmission</th>\n",
       "      <th>ext_col</th>\n",
       "      <th>int_col</th>\n",
       "      <th>accident</th>\n",
       "      <th>clean_title</th>\n",
       "      <th>price</th>\n",
       "    </tr>\n",
       "  </thead>\n",
       "  <tbody>\n",
       "    <tr>\n",
       "      <th>0</th>\n",
       "      <td>Ford</td>\n",
       "      <td>Utility Police Interceptor Base</td>\n",
       "      <td>2013</td>\n",
       "      <td>51,000 mi.</td>\n",
       "      <td>E85 Flex Fuel</td>\n",
       "      <td>300.0HP 3.7L V6 Cylinder Engine Flex Fuel Capa...</td>\n",
       "      <td>6-Speed A/T</td>\n",
       "      <td>Black</td>\n",
       "      <td>Black</td>\n",
       "      <td>At least 1 accident or damage reported</td>\n",
       "      <td>Yes</td>\n",
       "      <td>$10,300</td>\n",
       "    </tr>\n",
       "    <tr>\n",
       "      <th>1</th>\n",
       "      <td>Hyundai</td>\n",
       "      <td>Palisade SEL</td>\n",
       "      <td>2021</td>\n",
       "      <td>34,742 mi.</td>\n",
       "      <td>Gasoline</td>\n",
       "      <td>3.8L V6 24V GDI DOHC</td>\n",
       "      <td>8-Speed Automatic</td>\n",
       "      <td>Moonlight Cloud</td>\n",
       "      <td>Gray</td>\n",
       "      <td>At least 1 accident or damage reported</td>\n",
       "      <td>Yes</td>\n",
       "      <td>$38,005</td>\n",
       "    </tr>\n",
       "    <tr>\n",
       "      <th>2</th>\n",
       "      <td>Lexus</td>\n",
       "      <td>RX 350 RX 350</td>\n",
       "      <td>2022</td>\n",
       "      <td>22,372 mi.</td>\n",
       "      <td>Gasoline</td>\n",
       "      <td>3.5 Liter DOHC</td>\n",
       "      <td>Automatic</td>\n",
       "      <td>Blue</td>\n",
       "      <td>Black</td>\n",
       "      <td>None reported</td>\n",
       "      <td>NaN</td>\n",
       "      <td>$54,598</td>\n",
       "    </tr>\n",
       "    <tr>\n",
       "      <th>3</th>\n",
       "      <td>INFINITI</td>\n",
       "      <td>Q50 Hybrid Sport</td>\n",
       "      <td>2015</td>\n",
       "      <td>88,900 mi.</td>\n",
       "      <td>Hybrid</td>\n",
       "      <td>354.0HP 3.5L V6 Cylinder Engine Gas/Electric H...</td>\n",
       "      <td>7-Speed A/T</td>\n",
       "      <td>Black</td>\n",
       "      <td>Black</td>\n",
       "      <td>None reported</td>\n",
       "      <td>Yes</td>\n",
       "      <td>$15,500</td>\n",
       "    </tr>\n",
       "    <tr>\n",
       "      <th>4</th>\n",
       "      <td>Audi</td>\n",
       "      <td>Q3 45 S line Premium Plus</td>\n",
       "      <td>2021</td>\n",
       "      <td>9,835 mi.</td>\n",
       "      <td>Gasoline</td>\n",
       "      <td>2.0L I4 16V GDI DOHC Turbo</td>\n",
       "      <td>8-Speed Automatic</td>\n",
       "      <td>Glacier White Metallic</td>\n",
       "      <td>Black</td>\n",
       "      <td>None reported</td>\n",
       "      <td>NaN</td>\n",
       "      <td>$34,999</td>\n",
       "    </tr>\n",
       "  </tbody>\n",
       "</table>\n",
       "</div>"
      ],
      "text/plain": [
       "      brand                            model  model_year      milage  \\\n",
       "0      Ford  Utility Police Interceptor Base        2013  51,000 mi.   \n",
       "1   Hyundai                     Palisade SEL        2021  34,742 mi.   \n",
       "2     Lexus                    RX 350 RX 350        2022  22,372 mi.   \n",
       "3  INFINITI                 Q50 Hybrid Sport        2015  88,900 mi.   \n",
       "4      Audi        Q3 45 S line Premium Plus        2021   9,835 mi.   \n",
       "\n",
       "       fuel_type                                             engine  \\\n",
       "0  E85 Flex Fuel  300.0HP 3.7L V6 Cylinder Engine Flex Fuel Capa...   \n",
       "1       Gasoline                               3.8L V6 24V GDI DOHC   \n",
       "2       Gasoline                                     3.5 Liter DOHC   \n",
       "3         Hybrid  354.0HP 3.5L V6 Cylinder Engine Gas/Electric H...   \n",
       "4       Gasoline                         2.0L I4 16V GDI DOHC Turbo   \n",
       "\n",
       "        transmission                 ext_col int_col  \\\n",
       "0        6-Speed A/T                   Black   Black   \n",
       "1  8-Speed Automatic         Moonlight Cloud    Gray   \n",
       "2          Automatic                    Blue   Black   \n",
       "3        7-Speed A/T                   Black   Black   \n",
       "4  8-Speed Automatic  Glacier White Metallic   Black   \n",
       "\n",
       "                                 accident clean_title    price  \n",
       "0  At least 1 accident or damage reported         Yes  $10,300  \n",
       "1  At least 1 accident or damage reported         Yes  $38,005  \n",
       "2                           None reported         NaN  $54,598  \n",
       "3                           None reported         Yes  $15,500  \n",
       "4                           None reported         NaN  $34,999  "
      ]
     },
     "execution_count": 3,
     "metadata": {},
     "output_type": "execute_result"
    }
   ],
   "source": [
    "df.head()"
   ]
  },
  {
   "cell_type": "code",
   "execution_count": 4,
   "id": "c31bc0e7",
   "metadata": {},
   "outputs": [
    {
     "data": {
      "text/html": [
       "<div>\n",
       "<style scoped>\n",
       "    .dataframe tbody tr th:only-of-type {\n",
       "        vertical-align: middle;\n",
       "    }\n",
       "\n",
       "    .dataframe tbody tr th {\n",
       "        vertical-align: top;\n",
       "    }\n",
       "\n",
       "    .dataframe thead th {\n",
       "        text-align: right;\n",
       "    }\n",
       "</style>\n",
       "<table border=\"1\" class=\"dataframe\">\n",
       "  <thead>\n",
       "    <tr style=\"text-align: right;\">\n",
       "      <th></th>\n",
       "      <th>brand</th>\n",
       "      <th>model</th>\n",
       "      <th>model_year</th>\n",
       "      <th>milage</th>\n",
       "      <th>fuel_type</th>\n",
       "      <th>engine</th>\n",
       "      <th>transmission</th>\n",
       "      <th>ext_col</th>\n",
       "      <th>int_col</th>\n",
       "      <th>accident</th>\n",
       "      <th>clean_title</th>\n",
       "      <th>price</th>\n",
       "    </tr>\n",
       "  </thead>\n",
       "  <tbody>\n",
       "    <tr>\n",
       "      <th>4004</th>\n",
       "      <td>Bentley</td>\n",
       "      <td>Continental GT Speed</td>\n",
       "      <td>2023</td>\n",
       "      <td>714 mi.</td>\n",
       "      <td>Gasoline</td>\n",
       "      <td>6.0L W12 48V PDI DOHC Twin Turbo</td>\n",
       "      <td>8-Speed Automatic with Auto-Shift</td>\n",
       "      <td>C / C</td>\n",
       "      <td>Hotspur</td>\n",
       "      <td>None reported</td>\n",
       "      <td>Yes</td>\n",
       "      <td>$349,950</td>\n",
       "    </tr>\n",
       "    <tr>\n",
       "      <th>4005</th>\n",
       "      <td>Audi</td>\n",
       "      <td>S4 3.0T Premium Plus</td>\n",
       "      <td>2022</td>\n",
       "      <td>10,900 mi.</td>\n",
       "      <td>Gasoline</td>\n",
       "      <td>349.0HP 3.0L V6 Cylinder Engine Gasoline Fuel</td>\n",
       "      <td>Transmission w/Dual Shift Mode</td>\n",
       "      <td>Black</td>\n",
       "      <td>Black</td>\n",
       "      <td>None reported</td>\n",
       "      <td>Yes</td>\n",
       "      <td>$53,900</td>\n",
       "    </tr>\n",
       "    <tr>\n",
       "      <th>4006</th>\n",
       "      <td>Porsche</td>\n",
       "      <td>Taycan</td>\n",
       "      <td>2022</td>\n",
       "      <td>2,116 mi.</td>\n",
       "      <td>NaN</td>\n",
       "      <td>Electric</td>\n",
       "      <td>Automatic</td>\n",
       "      <td>Black</td>\n",
       "      <td>Black</td>\n",
       "      <td>None reported</td>\n",
       "      <td>NaN</td>\n",
       "      <td>$90,998</td>\n",
       "    </tr>\n",
       "    <tr>\n",
       "      <th>4007</th>\n",
       "      <td>Ford</td>\n",
       "      <td>F-150 Raptor</td>\n",
       "      <td>2020</td>\n",
       "      <td>33,000 mi.</td>\n",
       "      <td>Gasoline</td>\n",
       "      <td>450.0HP 3.5L V6 Cylinder Engine Gasoline Fuel</td>\n",
       "      <td>A/T</td>\n",
       "      <td>Blue</td>\n",
       "      <td>Black</td>\n",
       "      <td>None reported</td>\n",
       "      <td>Yes</td>\n",
       "      <td>$62,999</td>\n",
       "    </tr>\n",
       "    <tr>\n",
       "      <th>4008</th>\n",
       "      <td>BMW</td>\n",
       "      <td>X3 xDrive30i</td>\n",
       "      <td>2020</td>\n",
       "      <td>43,000 mi.</td>\n",
       "      <td>Gasoline</td>\n",
       "      <td>248.0HP 2.0L 4 Cylinder Engine Gasoline Fuel</td>\n",
       "      <td>A/T</td>\n",
       "      <td>Gray</td>\n",
       "      <td>Brown</td>\n",
       "      <td>At least 1 accident or damage reported</td>\n",
       "      <td>Yes</td>\n",
       "      <td>$40,000</td>\n",
       "    </tr>\n",
       "  </tbody>\n",
       "</table>\n",
       "</div>"
      ],
      "text/plain": [
       "        brand                 model  model_year      milage fuel_type  \\\n",
       "4004  Bentley  Continental GT Speed        2023     714 mi.  Gasoline   \n",
       "4005     Audi  S4 3.0T Premium Plus        2022  10,900 mi.  Gasoline   \n",
       "4006  Porsche                Taycan        2022   2,116 mi.       NaN   \n",
       "4007     Ford          F-150 Raptor        2020  33,000 mi.  Gasoline   \n",
       "4008      BMW          X3 xDrive30i        2020  43,000 mi.  Gasoline   \n",
       "\n",
       "                                             engine  \\\n",
       "4004               6.0L W12 48V PDI DOHC Twin Turbo   \n",
       "4005  349.0HP 3.0L V6 Cylinder Engine Gasoline Fuel   \n",
       "4006                                       Electric   \n",
       "4007  450.0HP 3.5L V6 Cylinder Engine Gasoline Fuel   \n",
       "4008   248.0HP 2.0L 4 Cylinder Engine Gasoline Fuel   \n",
       "\n",
       "                           transmission ext_col  int_col  \\\n",
       "4004  8-Speed Automatic with Auto-Shift   C / C  Hotspur   \n",
       "4005     Transmission w/Dual Shift Mode   Black    Black   \n",
       "4006                          Automatic   Black    Black   \n",
       "4007                                A/T    Blue    Black   \n",
       "4008                                A/T    Gray    Brown   \n",
       "\n",
       "                                    accident clean_title     price  \n",
       "4004                           None reported         Yes  $349,950  \n",
       "4005                           None reported         Yes   $53,900  \n",
       "4006                           None reported         NaN   $90,998  \n",
       "4007                           None reported         Yes   $62,999  \n",
       "4008  At least 1 accident or damage reported         Yes   $40,000  "
      ]
     },
     "execution_count": 4,
     "metadata": {},
     "output_type": "execute_result"
    }
   ],
   "source": [
    "df.tail()"
   ]
  },
  {
   "cell_type": "code",
   "execution_count": 5,
   "id": "6eae2d72",
   "metadata": {},
   "outputs": [
    {
     "data": {
      "text/plain": [
       "(4009, 12)"
      ]
     },
     "execution_count": 5,
     "metadata": {},
     "output_type": "execute_result"
    }
   ],
   "source": [
    "df.shape"
   ]
  },
  {
   "cell_type": "code",
   "execution_count": 6,
   "id": "11ce19c3",
   "metadata": {},
   "outputs": [
    {
     "name": "stdout",
     "output_type": "stream",
     "text": [
      "<class 'pandas.core.frame.DataFrame'>\n",
      "RangeIndex: 4009 entries, 0 to 4008\n",
      "Data columns (total 12 columns):\n",
      " #   Column        Non-Null Count  Dtype \n",
      "---  ------        --------------  ----- \n",
      " 0   brand         4009 non-null   object\n",
      " 1   model         4009 non-null   object\n",
      " 2   model_year    4009 non-null   int64 \n",
      " 3   milage        4009 non-null   object\n",
      " 4   fuel_type     3839 non-null   object\n",
      " 5   engine        4009 non-null   object\n",
      " 6   transmission  4009 non-null   object\n",
      " 7   ext_col       4009 non-null   object\n",
      " 8   int_col       4009 non-null   object\n",
      " 9   accident      3896 non-null   object\n",
      " 10  clean_title   3413 non-null   object\n",
      " 11  price         4009 non-null   object\n",
      "dtypes: int64(1), object(11)\n",
      "memory usage: 376.0+ KB\n"
     ]
    }
   ],
   "source": [
    "df.info()"
   ]
  },
  {
   "cell_type": "code",
   "execution_count": 7,
   "id": "16d7a4f1",
   "metadata": {},
   "outputs": [
    {
     "data": {
      "text/plain": [
       "brand             0\n",
       "model             0\n",
       "model_year        0\n",
       "milage            0\n",
       "fuel_type       170\n",
       "engine            0\n",
       "transmission      0\n",
       "ext_col           0\n",
       "int_col           0\n",
       "accident        113\n",
       "clean_title     596\n",
       "price             0\n",
       "dtype: int64"
      ]
     },
     "execution_count": 7,
     "metadata": {},
     "output_type": "execute_result"
    }
   ],
   "source": [
    "df.isna().sum()"
   ]
  },
  {
   "cell_type": "markdown",
   "id": "46c0c651",
   "metadata": {},
   "source": [
    "### Drop null values"
   ]
  },
  {
   "cell_type": "code",
   "execution_count": 8,
   "id": "b9fe1f8d",
   "metadata": {},
   "outputs": [],
   "source": [
    "df = df.dropna()"
   ]
  },
  {
   "cell_type": "code",
   "execution_count": 9,
   "id": "27a04a0e",
   "metadata": {},
   "outputs": [
    {
     "data": {
      "text/html": [
       "<div>\n",
       "<style scoped>\n",
       "    .dataframe tbody tr th:only-of-type {\n",
       "        vertical-align: middle;\n",
       "    }\n",
       "\n",
       "    .dataframe tbody tr th {\n",
       "        vertical-align: top;\n",
       "    }\n",
       "\n",
       "    .dataframe thead th {\n",
       "        text-align: right;\n",
       "    }\n",
       "</style>\n",
       "<table border=\"1\" class=\"dataframe\">\n",
       "  <thead>\n",
       "    <tr style=\"text-align: right;\">\n",
       "      <th></th>\n",
       "      <th>brand</th>\n",
       "      <th>model</th>\n",
       "      <th>model_year</th>\n",
       "      <th>milage</th>\n",
       "      <th>fuel_type</th>\n",
       "      <th>engine</th>\n",
       "      <th>transmission</th>\n",
       "      <th>ext_col</th>\n",
       "      <th>int_col</th>\n",
       "      <th>accident</th>\n",
       "      <th>clean_title</th>\n",
       "      <th>price</th>\n",
       "    </tr>\n",
       "  </thead>\n",
       "  <tbody>\n",
       "    <tr>\n",
       "      <th>0</th>\n",
       "      <td>Ford</td>\n",
       "      <td>Utility Police Interceptor Base</td>\n",
       "      <td>2013</td>\n",
       "      <td>51,000 mi.</td>\n",
       "      <td>E85 Flex Fuel</td>\n",
       "      <td>300.0HP 3.7L V6 Cylinder Engine Flex Fuel Capa...</td>\n",
       "      <td>6-Speed A/T</td>\n",
       "      <td>Black</td>\n",
       "      <td>Black</td>\n",
       "      <td>At least 1 accident or damage reported</td>\n",
       "      <td>Yes</td>\n",
       "      <td>$10,300</td>\n",
       "    </tr>\n",
       "    <tr>\n",
       "      <th>1</th>\n",
       "      <td>Hyundai</td>\n",
       "      <td>Palisade SEL</td>\n",
       "      <td>2021</td>\n",
       "      <td>34,742 mi.</td>\n",
       "      <td>Gasoline</td>\n",
       "      <td>3.8L V6 24V GDI DOHC</td>\n",
       "      <td>8-Speed Automatic</td>\n",
       "      <td>Moonlight Cloud</td>\n",
       "      <td>Gray</td>\n",
       "      <td>At least 1 accident or damage reported</td>\n",
       "      <td>Yes</td>\n",
       "      <td>$38,005</td>\n",
       "    </tr>\n",
       "    <tr>\n",
       "      <th>3</th>\n",
       "      <td>INFINITI</td>\n",
       "      <td>Q50 Hybrid Sport</td>\n",
       "      <td>2015</td>\n",
       "      <td>88,900 mi.</td>\n",
       "      <td>Hybrid</td>\n",
       "      <td>354.0HP 3.5L V6 Cylinder Engine Gas/Electric H...</td>\n",
       "      <td>7-Speed A/T</td>\n",
       "      <td>Black</td>\n",
       "      <td>Black</td>\n",
       "      <td>None reported</td>\n",
       "      <td>Yes</td>\n",
       "      <td>$15,500</td>\n",
       "    </tr>\n",
       "    <tr>\n",
       "      <th>6</th>\n",
       "      <td>Audi</td>\n",
       "      <td>S3 2.0T Premium Plus</td>\n",
       "      <td>2017</td>\n",
       "      <td>84,000 mi.</td>\n",
       "      <td>Gasoline</td>\n",
       "      <td>292.0HP 2.0L 4 Cylinder Engine Gasoline Fuel</td>\n",
       "      <td>6-Speed A/T</td>\n",
       "      <td>Blue</td>\n",
       "      <td>Black</td>\n",
       "      <td>None reported</td>\n",
       "      <td>Yes</td>\n",
       "      <td>$31,000</td>\n",
       "    </tr>\n",
       "    <tr>\n",
       "      <th>7</th>\n",
       "      <td>BMW</td>\n",
       "      <td>740 iL</td>\n",
       "      <td>2001</td>\n",
       "      <td>242,000 mi.</td>\n",
       "      <td>Gasoline</td>\n",
       "      <td>282.0HP 4.4L 8 Cylinder Engine Gasoline Fuel</td>\n",
       "      <td>A/T</td>\n",
       "      <td>Green</td>\n",
       "      <td>Green</td>\n",
       "      <td>None reported</td>\n",
       "      <td>Yes</td>\n",
       "      <td>$7,300</td>\n",
       "    </tr>\n",
       "  </tbody>\n",
       "</table>\n",
       "</div>"
      ],
      "text/plain": [
       "      brand                            model  model_year       milage  \\\n",
       "0      Ford  Utility Police Interceptor Base        2013   51,000 mi.   \n",
       "1   Hyundai                     Palisade SEL        2021   34,742 mi.   \n",
       "3  INFINITI                 Q50 Hybrid Sport        2015   88,900 mi.   \n",
       "6      Audi             S3 2.0T Premium Plus        2017   84,000 mi.   \n",
       "7       BMW                           740 iL        2001  242,000 mi.   \n",
       "\n",
       "       fuel_type                                             engine  \\\n",
       "0  E85 Flex Fuel  300.0HP 3.7L V6 Cylinder Engine Flex Fuel Capa...   \n",
       "1       Gasoline                               3.8L V6 24V GDI DOHC   \n",
       "3         Hybrid  354.0HP 3.5L V6 Cylinder Engine Gas/Electric H...   \n",
       "6       Gasoline       292.0HP 2.0L 4 Cylinder Engine Gasoline Fuel   \n",
       "7       Gasoline       282.0HP 4.4L 8 Cylinder Engine Gasoline Fuel   \n",
       "\n",
       "        transmission          ext_col int_col  \\\n",
       "0        6-Speed A/T            Black   Black   \n",
       "1  8-Speed Automatic  Moonlight Cloud    Gray   \n",
       "3        7-Speed A/T            Black   Black   \n",
       "6        6-Speed A/T             Blue   Black   \n",
       "7                A/T            Green   Green   \n",
       "\n",
       "                                 accident clean_title    price  \n",
       "0  At least 1 accident or damage reported         Yes  $10,300  \n",
       "1  At least 1 accident or damage reported         Yes  $38,005  \n",
       "3                           None reported         Yes  $15,500  \n",
       "6                           None reported         Yes  $31,000  \n",
       "7                           None reported         Yes   $7,300  "
      ]
     },
     "execution_count": 9,
     "metadata": {},
     "output_type": "execute_result"
    }
   ],
   "source": [
    "df.head()"
   ]
  },
  {
   "cell_type": "code",
   "execution_count": 10,
   "id": "40fc9a06",
   "metadata": {},
   "outputs": [
    {
     "data": {
      "text/plain": [
       "(3269, 12)"
      ]
     },
     "execution_count": 10,
     "metadata": {},
     "output_type": "execute_result"
    }
   ],
   "source": [
    "df.shape"
   ]
  },
  {
   "cell_type": "code",
   "execution_count": 11,
   "id": "80546b90",
   "metadata": {},
   "outputs": [],
   "source": [
    "df.reset_index(inplace=True)"
   ]
  },
  {
   "cell_type": "code",
   "execution_count": 12,
   "id": "b807f35c",
   "metadata": {},
   "outputs": [
    {
     "data": {
      "text/html": [
       "<div>\n",
       "<style scoped>\n",
       "    .dataframe tbody tr th:only-of-type {\n",
       "        vertical-align: middle;\n",
       "    }\n",
       "\n",
       "    .dataframe tbody tr th {\n",
       "        vertical-align: top;\n",
       "    }\n",
       "\n",
       "    .dataframe thead th {\n",
       "        text-align: right;\n",
       "    }\n",
       "</style>\n",
       "<table border=\"1\" class=\"dataframe\">\n",
       "  <thead>\n",
       "    <tr style=\"text-align: right;\">\n",
       "      <th></th>\n",
       "      <th>index</th>\n",
       "      <th>brand</th>\n",
       "      <th>model</th>\n",
       "      <th>model_year</th>\n",
       "      <th>milage</th>\n",
       "      <th>fuel_type</th>\n",
       "      <th>engine</th>\n",
       "      <th>transmission</th>\n",
       "      <th>ext_col</th>\n",
       "      <th>int_col</th>\n",
       "      <th>accident</th>\n",
       "      <th>clean_title</th>\n",
       "      <th>price</th>\n",
       "    </tr>\n",
       "  </thead>\n",
       "  <tbody>\n",
       "    <tr>\n",
       "      <th>0</th>\n",
       "      <td>0</td>\n",
       "      <td>Ford</td>\n",
       "      <td>Utility Police Interceptor Base</td>\n",
       "      <td>2013</td>\n",
       "      <td>51,000 mi.</td>\n",
       "      <td>E85 Flex Fuel</td>\n",
       "      <td>300.0HP 3.7L V6 Cylinder Engine Flex Fuel Capa...</td>\n",
       "      <td>6-Speed A/T</td>\n",
       "      <td>Black</td>\n",
       "      <td>Black</td>\n",
       "      <td>At least 1 accident or damage reported</td>\n",
       "      <td>Yes</td>\n",
       "      <td>$10,300</td>\n",
       "    </tr>\n",
       "    <tr>\n",
       "      <th>1</th>\n",
       "      <td>1</td>\n",
       "      <td>Hyundai</td>\n",
       "      <td>Palisade SEL</td>\n",
       "      <td>2021</td>\n",
       "      <td>34,742 mi.</td>\n",
       "      <td>Gasoline</td>\n",
       "      <td>3.8L V6 24V GDI DOHC</td>\n",
       "      <td>8-Speed Automatic</td>\n",
       "      <td>Moonlight Cloud</td>\n",
       "      <td>Gray</td>\n",
       "      <td>At least 1 accident or damage reported</td>\n",
       "      <td>Yes</td>\n",
       "      <td>$38,005</td>\n",
       "    </tr>\n",
       "    <tr>\n",
       "      <th>2</th>\n",
       "      <td>3</td>\n",
       "      <td>INFINITI</td>\n",
       "      <td>Q50 Hybrid Sport</td>\n",
       "      <td>2015</td>\n",
       "      <td>88,900 mi.</td>\n",
       "      <td>Hybrid</td>\n",
       "      <td>354.0HP 3.5L V6 Cylinder Engine Gas/Electric H...</td>\n",
       "      <td>7-Speed A/T</td>\n",
       "      <td>Black</td>\n",
       "      <td>Black</td>\n",
       "      <td>None reported</td>\n",
       "      <td>Yes</td>\n",
       "      <td>$15,500</td>\n",
       "    </tr>\n",
       "    <tr>\n",
       "      <th>3</th>\n",
       "      <td>6</td>\n",
       "      <td>Audi</td>\n",
       "      <td>S3 2.0T Premium Plus</td>\n",
       "      <td>2017</td>\n",
       "      <td>84,000 mi.</td>\n",
       "      <td>Gasoline</td>\n",
       "      <td>292.0HP 2.0L 4 Cylinder Engine Gasoline Fuel</td>\n",
       "      <td>6-Speed A/T</td>\n",
       "      <td>Blue</td>\n",
       "      <td>Black</td>\n",
       "      <td>None reported</td>\n",
       "      <td>Yes</td>\n",
       "      <td>$31,000</td>\n",
       "    </tr>\n",
       "    <tr>\n",
       "      <th>4</th>\n",
       "      <td>7</td>\n",
       "      <td>BMW</td>\n",
       "      <td>740 iL</td>\n",
       "      <td>2001</td>\n",
       "      <td>242,000 mi.</td>\n",
       "      <td>Gasoline</td>\n",
       "      <td>282.0HP 4.4L 8 Cylinder Engine Gasoline Fuel</td>\n",
       "      <td>A/T</td>\n",
       "      <td>Green</td>\n",
       "      <td>Green</td>\n",
       "      <td>None reported</td>\n",
       "      <td>Yes</td>\n",
       "      <td>$7,300</td>\n",
       "    </tr>\n",
       "  </tbody>\n",
       "</table>\n",
       "</div>"
      ],
      "text/plain": [
       "   index     brand                            model  model_year       milage  \\\n",
       "0      0      Ford  Utility Police Interceptor Base        2013   51,000 mi.   \n",
       "1      1   Hyundai                     Palisade SEL        2021   34,742 mi.   \n",
       "2      3  INFINITI                 Q50 Hybrid Sport        2015   88,900 mi.   \n",
       "3      6      Audi             S3 2.0T Premium Plus        2017   84,000 mi.   \n",
       "4      7       BMW                           740 iL        2001  242,000 mi.   \n",
       "\n",
       "       fuel_type                                             engine  \\\n",
       "0  E85 Flex Fuel  300.0HP 3.7L V6 Cylinder Engine Flex Fuel Capa...   \n",
       "1       Gasoline                               3.8L V6 24V GDI DOHC   \n",
       "2         Hybrid  354.0HP 3.5L V6 Cylinder Engine Gas/Electric H...   \n",
       "3       Gasoline       292.0HP 2.0L 4 Cylinder Engine Gasoline Fuel   \n",
       "4       Gasoline       282.0HP 4.4L 8 Cylinder Engine Gasoline Fuel   \n",
       "\n",
       "        transmission          ext_col int_col  \\\n",
       "0        6-Speed A/T            Black   Black   \n",
       "1  8-Speed Automatic  Moonlight Cloud    Gray   \n",
       "2        7-Speed A/T            Black   Black   \n",
       "3        6-Speed A/T             Blue   Black   \n",
       "4                A/T            Green   Green   \n",
       "\n",
       "                                 accident clean_title    price  \n",
       "0  At least 1 accident or damage reported         Yes  $10,300  \n",
       "1  At least 1 accident or damage reported         Yes  $38,005  \n",
       "2                           None reported         Yes  $15,500  \n",
       "3                           None reported         Yes  $31,000  \n",
       "4                           None reported         Yes   $7,300  "
      ]
     },
     "execution_count": 12,
     "metadata": {},
     "output_type": "execute_result"
    }
   ],
   "source": [
    "df.head()"
   ]
  },
  {
   "cell_type": "code",
   "execution_count": 13,
   "id": "953c8bbf",
   "metadata": {},
   "outputs": [],
   "source": [
    "df.drop(columns=['index'], inplace=True, axis=1)"
   ]
  },
  {
   "cell_type": "code",
   "execution_count": 14,
   "id": "9e414696",
   "metadata": {},
   "outputs": [
    {
     "data": {
      "text/html": [
       "<div>\n",
       "<style scoped>\n",
       "    .dataframe tbody tr th:only-of-type {\n",
       "        vertical-align: middle;\n",
       "    }\n",
       "\n",
       "    .dataframe tbody tr th {\n",
       "        vertical-align: top;\n",
       "    }\n",
       "\n",
       "    .dataframe thead th {\n",
       "        text-align: right;\n",
       "    }\n",
       "</style>\n",
       "<table border=\"1\" class=\"dataframe\">\n",
       "  <thead>\n",
       "    <tr style=\"text-align: right;\">\n",
       "      <th></th>\n",
       "      <th>brand</th>\n",
       "      <th>model</th>\n",
       "      <th>model_year</th>\n",
       "      <th>milage</th>\n",
       "      <th>fuel_type</th>\n",
       "      <th>engine</th>\n",
       "      <th>transmission</th>\n",
       "      <th>ext_col</th>\n",
       "      <th>int_col</th>\n",
       "      <th>accident</th>\n",
       "      <th>clean_title</th>\n",
       "      <th>price</th>\n",
       "    </tr>\n",
       "  </thead>\n",
       "  <tbody>\n",
       "    <tr>\n",
       "      <th>0</th>\n",
       "      <td>Ford</td>\n",
       "      <td>Utility Police Interceptor Base</td>\n",
       "      <td>2013</td>\n",
       "      <td>51,000 mi.</td>\n",
       "      <td>E85 Flex Fuel</td>\n",
       "      <td>300.0HP 3.7L V6 Cylinder Engine Flex Fuel Capa...</td>\n",
       "      <td>6-Speed A/T</td>\n",
       "      <td>Black</td>\n",
       "      <td>Black</td>\n",
       "      <td>At least 1 accident or damage reported</td>\n",
       "      <td>Yes</td>\n",
       "      <td>$10,300</td>\n",
       "    </tr>\n",
       "    <tr>\n",
       "      <th>1</th>\n",
       "      <td>Hyundai</td>\n",
       "      <td>Palisade SEL</td>\n",
       "      <td>2021</td>\n",
       "      <td>34,742 mi.</td>\n",
       "      <td>Gasoline</td>\n",
       "      <td>3.8L V6 24V GDI DOHC</td>\n",
       "      <td>8-Speed Automatic</td>\n",
       "      <td>Moonlight Cloud</td>\n",
       "      <td>Gray</td>\n",
       "      <td>At least 1 accident or damage reported</td>\n",
       "      <td>Yes</td>\n",
       "      <td>$38,005</td>\n",
       "    </tr>\n",
       "    <tr>\n",
       "      <th>2</th>\n",
       "      <td>INFINITI</td>\n",
       "      <td>Q50 Hybrid Sport</td>\n",
       "      <td>2015</td>\n",
       "      <td>88,900 mi.</td>\n",
       "      <td>Hybrid</td>\n",
       "      <td>354.0HP 3.5L V6 Cylinder Engine Gas/Electric H...</td>\n",
       "      <td>7-Speed A/T</td>\n",
       "      <td>Black</td>\n",
       "      <td>Black</td>\n",
       "      <td>None reported</td>\n",
       "      <td>Yes</td>\n",
       "      <td>$15,500</td>\n",
       "    </tr>\n",
       "    <tr>\n",
       "      <th>3</th>\n",
       "      <td>Audi</td>\n",
       "      <td>S3 2.0T Premium Plus</td>\n",
       "      <td>2017</td>\n",
       "      <td>84,000 mi.</td>\n",
       "      <td>Gasoline</td>\n",
       "      <td>292.0HP 2.0L 4 Cylinder Engine Gasoline Fuel</td>\n",
       "      <td>6-Speed A/T</td>\n",
       "      <td>Blue</td>\n",
       "      <td>Black</td>\n",
       "      <td>None reported</td>\n",
       "      <td>Yes</td>\n",
       "      <td>$31,000</td>\n",
       "    </tr>\n",
       "    <tr>\n",
       "      <th>4</th>\n",
       "      <td>BMW</td>\n",
       "      <td>740 iL</td>\n",
       "      <td>2001</td>\n",
       "      <td>242,000 mi.</td>\n",
       "      <td>Gasoline</td>\n",
       "      <td>282.0HP 4.4L 8 Cylinder Engine Gasoline Fuel</td>\n",
       "      <td>A/T</td>\n",
       "      <td>Green</td>\n",
       "      <td>Green</td>\n",
       "      <td>None reported</td>\n",
       "      <td>Yes</td>\n",
       "      <td>$7,300</td>\n",
       "    </tr>\n",
       "  </tbody>\n",
       "</table>\n",
       "</div>"
      ],
      "text/plain": [
       "      brand                            model  model_year       milage  \\\n",
       "0      Ford  Utility Police Interceptor Base        2013   51,000 mi.   \n",
       "1   Hyundai                     Palisade SEL        2021   34,742 mi.   \n",
       "2  INFINITI                 Q50 Hybrid Sport        2015   88,900 mi.   \n",
       "3      Audi             S3 2.0T Premium Plus        2017   84,000 mi.   \n",
       "4       BMW                           740 iL        2001  242,000 mi.   \n",
       "\n",
       "       fuel_type                                             engine  \\\n",
       "0  E85 Flex Fuel  300.0HP 3.7L V6 Cylinder Engine Flex Fuel Capa...   \n",
       "1       Gasoline                               3.8L V6 24V GDI DOHC   \n",
       "2         Hybrid  354.0HP 3.5L V6 Cylinder Engine Gas/Electric H...   \n",
       "3       Gasoline       292.0HP 2.0L 4 Cylinder Engine Gasoline Fuel   \n",
       "4       Gasoline       282.0HP 4.4L 8 Cylinder Engine Gasoline Fuel   \n",
       "\n",
       "        transmission          ext_col int_col  \\\n",
       "0        6-Speed A/T            Black   Black   \n",
       "1  8-Speed Automatic  Moonlight Cloud    Gray   \n",
       "2        7-Speed A/T            Black   Black   \n",
       "3        6-Speed A/T             Blue   Black   \n",
       "4                A/T            Green   Green   \n",
       "\n",
       "                                 accident clean_title    price  \n",
       "0  At least 1 accident or damage reported         Yes  $10,300  \n",
       "1  At least 1 accident or damage reported         Yes  $38,005  \n",
       "2                           None reported         Yes  $15,500  \n",
       "3                           None reported         Yes  $31,000  \n",
       "4                           None reported         Yes   $7,300  "
      ]
     },
     "execution_count": 14,
     "metadata": {},
     "output_type": "execute_result"
    }
   ],
   "source": [
    "df.head()"
   ]
  },
  {
   "cell_type": "markdown",
   "id": "44610019",
   "metadata": {},
   "source": [
    "### Check Duplicated"
   ]
  },
  {
   "cell_type": "code",
   "execution_count": 15,
   "id": "41d7700f",
   "metadata": {},
   "outputs": [
    {
     "data": {
      "text/plain": [
       "0"
      ]
     },
     "execution_count": 15,
     "metadata": {},
     "output_type": "execute_result"
    }
   ],
   "source": [
    "df.duplicated().sum()"
   ]
  },
  {
   "cell_type": "code",
   "execution_count": null,
   "id": "0d4f2a05",
   "metadata": {},
   "outputs": [],
   "source": []
  },
  {
   "cell_type": "markdown",
   "id": "02d329ee",
   "metadata": {},
   "source": [
    "### Analysis Each Column"
   ]
  },
  {
   "cell_type": "code",
   "execution_count": 16,
   "id": "091c0483",
   "metadata": {},
   "outputs": [
    {
     "data": {
      "text/plain": [
       "['brand',\n",
       " 'model',\n",
       " 'model_year',\n",
       " 'milage',\n",
       " 'fuel_type',\n",
       " 'engine',\n",
       " 'transmission',\n",
       " 'ext_col',\n",
       " 'int_col',\n",
       " 'accident',\n",
       " 'clean_title',\n",
       " 'price']"
      ]
     },
     "execution_count": 16,
     "metadata": {},
     "output_type": "execute_result"
    }
   ],
   "source": [
    "column = df.columns.tolist()\n",
    "column"
   ]
  },
  {
   "cell_type": "code",
   "execution_count": 17,
   "id": "509b1115",
   "metadata": {},
   "outputs": [],
   "source": [
    "unique_v = []\n",
    "for col in column:\n",
    "    pred_v = df[col].value_counts()\n",
    "    unique_v.append(pred_v)"
   ]
  },
  {
   "cell_type": "code",
   "execution_count": 18,
   "id": "a7cd0900",
   "metadata": {},
   "outputs": [
    {
     "data": {
      "text/plain": [
       "brand\n",
       "Ford             341\n",
       "BMW              316\n",
       "Mercedes-Benz    268\n",
       "Chevrolet        259\n",
       "Toyota           171\n",
       "Porsche          158\n",
       "Audi             153\n",
       "Lexus            136\n",
       "Jeep             114\n",
       "Land             100\n",
       "Nissan            95\n",
       "Cadillac          92\n",
       "Dodge             84\n",
       "GMC               84\n",
       "RAM               72\n",
       "Subaru            59\n",
       "Hyundai           57\n",
       "Mazda             57\n",
       "INFINITI          54\n",
       "Volkswagen        51\n",
       "Honda             49\n",
       "Kia               46\n",
       "Acura             45\n",
       "Lincoln           44\n",
       "Jaguar            39\n",
       "Volvo             33\n",
       "MINI              31\n",
       "Maserati          31\n",
       "Bentley           27\n",
       "Chrysler          25\n",
       "Buick             25\n",
       "Mitsubishi        20\n",
       "Genesis           16\n",
       "Hummer            16\n",
       "Pontiac           15\n",
       "Lamborghini       15\n",
       "Alfa              12\n",
       "Rolls-Royce       10\n",
       "Ferrari            9\n",
       "Aston              8\n",
       "Scion              6\n",
       "Saturn             5\n",
       "McLaren            4\n",
       "FIAT               4\n",
       "Lotus              3\n",
       "Mercury            3\n",
       "Saab               2\n",
       "Bugatti            1\n",
       "Plymouth           1\n",
       "smart              1\n",
       "Maybach            1\n",
       "Suzuki             1\n",
       "Name: count, dtype: int64"
      ]
     },
     "execution_count": 18,
     "metadata": {},
     "output_type": "execute_result"
    }
   ],
   "source": [
    "unique_v[0]"
   ]
  },
  {
   "cell_type": "markdown",
   "id": "7e37059a",
   "metadata": {},
   "source": [
    "### Display Features unique counts"
   ]
  },
  {
   "cell_type": "code",
   "execution_count": 19,
   "id": "60d595d9",
   "metadata": {},
   "outputs": [
    {
     "name": "stdout",
     "output_type": "stream",
     "text": [
      "brand: have unique values 52\n",
      "model: have unique values 1614\n",
      "model_year: have unique values 34\n",
      "milage: have unique values 2194\n",
      "fuel_type: have unique values 7\n",
      "engine: have unique values 963\n",
      "transmission: have unique values 32\n",
      "ext_col: have unique values 120\n",
      "int_col: have unique values 74\n",
      "accident: have unique values 2\n",
      "clean_title: have unique values 1\n",
      "price: have unique values 1200\n"
     ]
    }
   ],
   "source": [
    "for index, val in enumerate(column):\n",
    "    print(f'{val}: have unique values {unique_v[index].count()}')"
   ]
  },
  {
   "cell_type": "code",
   "execution_count": 20,
   "id": "cb153a99",
   "metadata": {},
   "outputs": [
    {
     "data": {
      "text/plain": [
       "accident\n",
       "None reported                             2332\n",
       "At least 1 accident or damage reported     937\n",
       "Name: count, dtype: int64"
      ]
     },
     "execution_count": 20,
     "metadata": {},
     "output_type": "execute_result"
    }
   ],
   "source": [
    "df['accident'].value_counts()"
   ]
  },
  {
   "cell_type": "code",
   "execution_count": 21,
   "id": "e7551509",
   "metadata": {},
   "outputs": [
    {
     "data": {
      "text/plain": [
       "fuel_type\n",
       "Gasoline          2815\n",
       "Hybrid             145\n",
       "E85 Flex Fuel      128\n",
       "Diesel             102\n",
       "–                   44\n",
       "Plug-In Hybrid      33\n",
       "not supported        2\n",
       "Name: count, dtype: int64"
      ]
     },
     "execution_count": 21,
     "metadata": {},
     "output_type": "execute_result"
    }
   ],
   "source": [
    "df['fuel_type'].value_counts()"
   ]
  },
  {
   "cell_type": "code",
   "execution_count": 22,
   "id": "0d3e439a",
   "metadata": {},
   "outputs": [
    {
     "data": {
      "text/plain": [
       "clean_title\n",
       "Yes    3269\n",
       "Name: count, dtype: int64"
      ]
     },
     "execution_count": 22,
     "metadata": {},
     "output_type": "execute_result"
    }
   ],
   "source": [
    "\n",
    "df['clean_title'].value_counts()"
   ]
  },
  {
   "cell_type": "markdown",
   "id": "0ed7e360",
   "metadata": {},
   "source": [
    "### Drop Clean Title"
   ]
  },
  {
   "cell_type": "code",
   "execution_count": 23,
   "id": "687bc4eb",
   "metadata": {},
   "outputs": [],
   "source": [
    "df.drop(columns=['clean_title'], inplace=True)"
   ]
  },
  {
   "cell_type": "code",
   "execution_count": null,
   "id": "7945a45f",
   "metadata": {},
   "outputs": [],
   "source": []
  },
  {
   "cell_type": "code",
   "execution_count": 24,
   "id": "622d7962",
   "metadata": {},
   "outputs": [
    {
     "data": {
      "text/html": [
       "<div>\n",
       "<style scoped>\n",
       "    .dataframe tbody tr th:only-of-type {\n",
       "        vertical-align: middle;\n",
       "    }\n",
       "\n",
       "    .dataframe tbody tr th {\n",
       "        vertical-align: top;\n",
       "    }\n",
       "\n",
       "    .dataframe thead th {\n",
       "        text-align: right;\n",
       "    }\n",
       "</style>\n",
       "<table border=\"1\" class=\"dataframe\">\n",
       "  <thead>\n",
       "    <tr style=\"text-align: right;\">\n",
       "      <th></th>\n",
       "      <th>brand</th>\n",
       "      <th>model</th>\n",
       "      <th>model_year</th>\n",
       "      <th>milage</th>\n",
       "      <th>fuel_type</th>\n",
       "      <th>engine</th>\n",
       "      <th>transmission</th>\n",
       "      <th>ext_col</th>\n",
       "      <th>int_col</th>\n",
       "      <th>accident</th>\n",
       "      <th>price</th>\n",
       "    </tr>\n",
       "  </thead>\n",
       "  <tbody>\n",
       "    <tr>\n",
       "      <th>0</th>\n",
       "      <td>Ford</td>\n",
       "      <td>Utility Police Interceptor Base</td>\n",
       "      <td>2013</td>\n",
       "      <td>51,000 mi.</td>\n",
       "      <td>E85 Flex Fuel</td>\n",
       "      <td>300.0HP 3.7L V6 Cylinder Engine Flex Fuel Capa...</td>\n",
       "      <td>6-Speed A/T</td>\n",
       "      <td>Black</td>\n",
       "      <td>Black</td>\n",
       "      <td>At least 1 accident or damage reported</td>\n",
       "      <td>$10,300</td>\n",
       "    </tr>\n",
       "    <tr>\n",
       "      <th>1</th>\n",
       "      <td>Hyundai</td>\n",
       "      <td>Palisade SEL</td>\n",
       "      <td>2021</td>\n",
       "      <td>34,742 mi.</td>\n",
       "      <td>Gasoline</td>\n",
       "      <td>3.8L V6 24V GDI DOHC</td>\n",
       "      <td>8-Speed Automatic</td>\n",
       "      <td>Moonlight Cloud</td>\n",
       "      <td>Gray</td>\n",
       "      <td>At least 1 accident or damage reported</td>\n",
       "      <td>$38,005</td>\n",
       "    </tr>\n",
       "  </tbody>\n",
       "</table>\n",
       "</div>"
      ],
      "text/plain": [
       "     brand                            model  model_year      milage  \\\n",
       "0     Ford  Utility Police Interceptor Base        2013  51,000 mi.   \n",
       "1  Hyundai                     Palisade SEL        2021  34,742 mi.   \n",
       "\n",
       "       fuel_type                                             engine  \\\n",
       "0  E85 Flex Fuel  300.0HP 3.7L V6 Cylinder Engine Flex Fuel Capa...   \n",
       "1       Gasoline                               3.8L V6 24V GDI DOHC   \n",
       "\n",
       "        transmission          ext_col int_col  \\\n",
       "0        6-Speed A/T            Black   Black   \n",
       "1  8-Speed Automatic  Moonlight Cloud    Gray   \n",
       "\n",
       "                                 accident    price  \n",
       "0  At least 1 accident or damage reported  $10,300  \n",
       "1  At least 1 accident or damage reported  $38,005  "
      ]
     },
     "execution_count": 24,
     "metadata": {},
     "output_type": "execute_result"
    }
   ],
   "source": [
    "df.head(2)"
   ]
  },
  {
   "cell_type": "code",
   "execution_count": 25,
   "id": "579d1226",
   "metadata": {},
   "outputs": [],
   "source": [
    "def price(val):\n",
    "    pric = val[1:] # $10,000\n",
    "    price = pric.split(',') # [10, 000]\n",
    "    price = price[0]+price[1] # 10000\n",
    "    return int(price) # 10000"
   ]
  },
  {
   "cell_type": "code",
   "execution_count": 26,
   "id": "de612cc8",
   "metadata": {},
   "outputs": [],
   "source": [
    "df['price'] = df['price'].apply(price)"
   ]
  },
  {
   "cell_type": "code",
   "execution_count": 27,
   "id": "96250ed0",
   "metadata": {},
   "outputs": [
    {
     "data": {
      "text/html": [
       "<div>\n",
       "<style scoped>\n",
       "    .dataframe tbody tr th:only-of-type {\n",
       "        vertical-align: middle;\n",
       "    }\n",
       "\n",
       "    .dataframe tbody tr th {\n",
       "        vertical-align: top;\n",
       "    }\n",
       "\n",
       "    .dataframe thead th {\n",
       "        text-align: right;\n",
       "    }\n",
       "</style>\n",
       "<table border=\"1\" class=\"dataframe\">\n",
       "  <thead>\n",
       "    <tr style=\"text-align: right;\">\n",
       "      <th></th>\n",
       "      <th>brand</th>\n",
       "      <th>model</th>\n",
       "      <th>model_year</th>\n",
       "      <th>milage</th>\n",
       "      <th>fuel_type</th>\n",
       "      <th>engine</th>\n",
       "      <th>transmission</th>\n",
       "      <th>ext_col</th>\n",
       "      <th>int_col</th>\n",
       "      <th>accident</th>\n",
       "      <th>price</th>\n",
       "    </tr>\n",
       "  </thead>\n",
       "  <tbody>\n",
       "    <tr>\n",
       "      <th>0</th>\n",
       "      <td>Ford</td>\n",
       "      <td>Utility Police Interceptor Base</td>\n",
       "      <td>2013</td>\n",
       "      <td>51,000 mi.</td>\n",
       "      <td>E85 Flex Fuel</td>\n",
       "      <td>300.0HP 3.7L V6 Cylinder Engine Flex Fuel Capa...</td>\n",
       "      <td>6-Speed A/T</td>\n",
       "      <td>Black</td>\n",
       "      <td>Black</td>\n",
       "      <td>At least 1 accident or damage reported</td>\n",
       "      <td>10300</td>\n",
       "    </tr>\n",
       "    <tr>\n",
       "      <th>1</th>\n",
       "      <td>Hyundai</td>\n",
       "      <td>Palisade SEL</td>\n",
       "      <td>2021</td>\n",
       "      <td>34,742 mi.</td>\n",
       "      <td>Gasoline</td>\n",
       "      <td>3.8L V6 24V GDI DOHC</td>\n",
       "      <td>8-Speed Automatic</td>\n",
       "      <td>Moonlight Cloud</td>\n",
       "      <td>Gray</td>\n",
       "      <td>At least 1 accident or damage reported</td>\n",
       "      <td>38005</td>\n",
       "    </tr>\n",
       "    <tr>\n",
       "      <th>2</th>\n",
       "      <td>INFINITI</td>\n",
       "      <td>Q50 Hybrid Sport</td>\n",
       "      <td>2015</td>\n",
       "      <td>88,900 mi.</td>\n",
       "      <td>Hybrid</td>\n",
       "      <td>354.0HP 3.5L V6 Cylinder Engine Gas/Electric H...</td>\n",
       "      <td>7-Speed A/T</td>\n",
       "      <td>Black</td>\n",
       "      <td>Black</td>\n",
       "      <td>None reported</td>\n",
       "      <td>15500</td>\n",
       "    </tr>\n",
       "  </tbody>\n",
       "</table>\n",
       "</div>"
      ],
      "text/plain": [
       "      brand                            model  model_year      milage  \\\n",
       "0      Ford  Utility Police Interceptor Base        2013  51,000 mi.   \n",
       "1   Hyundai                     Palisade SEL        2021  34,742 mi.   \n",
       "2  INFINITI                 Q50 Hybrid Sport        2015  88,900 mi.   \n",
       "\n",
       "       fuel_type                                             engine  \\\n",
       "0  E85 Flex Fuel  300.0HP 3.7L V6 Cylinder Engine Flex Fuel Capa...   \n",
       "1       Gasoline                               3.8L V6 24V GDI DOHC   \n",
       "2         Hybrid  354.0HP 3.5L V6 Cylinder Engine Gas/Electric H...   \n",
       "\n",
       "        transmission          ext_col int_col  \\\n",
       "0        6-Speed A/T            Black   Black   \n",
       "1  8-Speed Automatic  Moonlight Cloud    Gray   \n",
       "2        7-Speed A/T            Black   Black   \n",
       "\n",
       "                                 accident  price  \n",
       "0  At least 1 accident or damage reported  10300  \n",
       "1  At least 1 accident or damage reported  38005  \n",
       "2                           None reported  15500  "
      ]
     },
     "execution_count": 27,
     "metadata": {},
     "output_type": "execute_result"
    }
   ],
   "source": [
    "df.head(3)"
   ]
  },
  {
   "cell_type": "code",
   "execution_count": 28,
   "id": "ae7c973f",
   "metadata": {},
   "outputs": [
    {
     "name": "stdout",
     "output_type": "stream",
     "text": [
      "<class 'pandas.core.frame.DataFrame'>\n",
      "RangeIndex: 3269 entries, 0 to 3268\n",
      "Data columns (total 11 columns):\n",
      " #   Column        Non-Null Count  Dtype \n",
      "---  ------        --------------  ----- \n",
      " 0   brand         3269 non-null   object\n",
      " 1   model         3269 non-null   object\n",
      " 2   model_year    3269 non-null   int64 \n",
      " 3   milage        3269 non-null   object\n",
      " 4   fuel_type     3269 non-null   object\n",
      " 5   engine        3269 non-null   object\n",
      " 6   transmission  3269 non-null   object\n",
      " 7   ext_col       3269 non-null   object\n",
      " 8   int_col       3269 non-null   object\n",
      " 9   accident      3269 non-null   object\n",
      " 10  price         3269 non-null   int64 \n",
      "dtypes: int64(2), object(9)\n",
      "memory usage: 281.1+ KB\n"
     ]
    }
   ],
   "source": [
    "df.info()"
   ]
  },
  {
   "cell_type": "code",
   "execution_count": 29,
   "id": "90e6ef48",
   "metadata": {},
   "outputs": [
    {
     "data": {
      "text/html": [
       "<div>\n",
       "<style scoped>\n",
       "    .dataframe tbody tr th:only-of-type {\n",
       "        vertical-align: middle;\n",
       "    }\n",
       "\n",
       "    .dataframe tbody tr th {\n",
       "        vertical-align: top;\n",
       "    }\n",
       "\n",
       "    .dataframe thead th {\n",
       "        text-align: right;\n",
       "    }\n",
       "</style>\n",
       "<table border=\"1\" class=\"dataframe\">\n",
       "  <thead>\n",
       "    <tr style=\"text-align: right;\">\n",
       "      <th></th>\n",
       "      <th>brand</th>\n",
       "      <th>model</th>\n",
       "      <th>model_year</th>\n",
       "      <th>milage</th>\n",
       "      <th>fuel_type</th>\n",
       "      <th>engine</th>\n",
       "      <th>transmission</th>\n",
       "      <th>ext_col</th>\n",
       "      <th>int_col</th>\n",
       "      <th>accident</th>\n",
       "      <th>price</th>\n",
       "    </tr>\n",
       "  </thead>\n",
       "  <tbody>\n",
       "    <tr>\n",
       "      <th>0</th>\n",
       "      <td>Ford</td>\n",
       "      <td>Utility Police Interceptor Base</td>\n",
       "      <td>2013</td>\n",
       "      <td>51,000 mi.</td>\n",
       "      <td>E85 Flex Fuel</td>\n",
       "      <td>300.0HP 3.7L V6 Cylinder Engine Flex Fuel Capa...</td>\n",
       "      <td>6-Speed A/T</td>\n",
       "      <td>Black</td>\n",
       "      <td>Black</td>\n",
       "      <td>At least 1 accident or damage reported</td>\n",
       "      <td>10300</td>\n",
       "    </tr>\n",
       "    <tr>\n",
       "      <th>1</th>\n",
       "      <td>Hyundai</td>\n",
       "      <td>Palisade SEL</td>\n",
       "      <td>2021</td>\n",
       "      <td>34,742 mi.</td>\n",
       "      <td>Gasoline</td>\n",
       "      <td>3.8L V6 24V GDI DOHC</td>\n",
       "      <td>8-Speed Automatic</td>\n",
       "      <td>Moonlight Cloud</td>\n",
       "      <td>Gray</td>\n",
       "      <td>At least 1 accident or damage reported</td>\n",
       "      <td>38005</td>\n",
       "    </tr>\n",
       "    <tr>\n",
       "      <th>2</th>\n",
       "      <td>INFINITI</td>\n",
       "      <td>Q50 Hybrid Sport</td>\n",
       "      <td>2015</td>\n",
       "      <td>88,900 mi.</td>\n",
       "      <td>Hybrid</td>\n",
       "      <td>354.0HP 3.5L V6 Cylinder Engine Gas/Electric H...</td>\n",
       "      <td>7-Speed A/T</td>\n",
       "      <td>Black</td>\n",
       "      <td>Black</td>\n",
       "      <td>None reported</td>\n",
       "      <td>15500</td>\n",
       "    </tr>\n",
       "    <tr>\n",
       "      <th>3</th>\n",
       "      <td>Audi</td>\n",
       "      <td>S3 2.0T Premium Plus</td>\n",
       "      <td>2017</td>\n",
       "      <td>84,000 mi.</td>\n",
       "      <td>Gasoline</td>\n",
       "      <td>292.0HP 2.0L 4 Cylinder Engine Gasoline Fuel</td>\n",
       "      <td>6-Speed A/T</td>\n",
       "      <td>Blue</td>\n",
       "      <td>Black</td>\n",
       "      <td>None reported</td>\n",
       "      <td>31000</td>\n",
       "    </tr>\n",
       "    <tr>\n",
       "      <th>4</th>\n",
       "      <td>BMW</td>\n",
       "      <td>740 iL</td>\n",
       "      <td>2001</td>\n",
       "      <td>242,000 mi.</td>\n",
       "      <td>Gasoline</td>\n",
       "      <td>282.0HP 4.4L 8 Cylinder Engine Gasoline Fuel</td>\n",
       "      <td>A/T</td>\n",
       "      <td>Green</td>\n",
       "      <td>Green</td>\n",
       "      <td>None reported</td>\n",
       "      <td>7300</td>\n",
       "    </tr>\n",
       "  </tbody>\n",
       "</table>\n",
       "</div>"
      ],
      "text/plain": [
       "      brand                            model  model_year       milage  \\\n",
       "0      Ford  Utility Police Interceptor Base        2013   51,000 mi.   \n",
       "1   Hyundai                     Palisade SEL        2021   34,742 mi.   \n",
       "2  INFINITI                 Q50 Hybrid Sport        2015   88,900 mi.   \n",
       "3      Audi             S3 2.0T Premium Plus        2017   84,000 mi.   \n",
       "4       BMW                           740 iL        2001  242,000 mi.   \n",
       "\n",
       "       fuel_type                                             engine  \\\n",
       "0  E85 Flex Fuel  300.0HP 3.7L V6 Cylinder Engine Flex Fuel Capa...   \n",
       "1       Gasoline                               3.8L V6 24V GDI DOHC   \n",
       "2         Hybrid  354.0HP 3.5L V6 Cylinder Engine Gas/Electric H...   \n",
       "3       Gasoline       292.0HP 2.0L 4 Cylinder Engine Gasoline Fuel   \n",
       "4       Gasoline       282.0HP 4.4L 8 Cylinder Engine Gasoline Fuel   \n",
       "\n",
       "        transmission          ext_col int_col  \\\n",
       "0        6-Speed A/T            Black   Black   \n",
       "1  8-Speed Automatic  Moonlight Cloud    Gray   \n",
       "2        7-Speed A/T            Black   Black   \n",
       "3        6-Speed A/T             Blue   Black   \n",
       "4                A/T            Green   Green   \n",
       "\n",
       "                                 accident  price  \n",
       "0  At least 1 accident or damage reported  10300  \n",
       "1  At least 1 accident or damage reported  38005  \n",
       "2                           None reported  15500  \n",
       "3                           None reported  31000  \n",
       "4                           None reported   7300  "
      ]
     },
     "execution_count": 29,
     "metadata": {},
     "output_type": "execute_result"
    }
   ],
   "source": [
    "df.head()"
   ]
  },
  {
   "cell_type": "markdown",
   "id": "c6feea43",
   "metadata": {},
   "source": [
    "### Convert  Categorical column into Neumerical"
   ]
  },
  {
   "cell_type": "code",
   "execution_count": 30,
   "id": "e0240f0b",
   "metadata": {},
   "outputs": [],
   "source": [
    "from sklearn.preprocessing import LabelEncoder, OneHotEncoder"
   ]
  },
  {
   "cell_type": "code",
   "execution_count": 31,
   "id": "157d6e95",
   "metadata": {},
   "outputs": [],
   "source": [
    "scaler = LabelEncoder()"
   ]
  },
  {
   "cell_type": "code",
   "execution_count": 32,
   "id": "d8d3103a",
   "metadata": {},
   "outputs": [],
   "source": [
    "df['brand'] = scaler.fit_transform(df['brand'])"
   ]
  },
  {
   "cell_type": "code",
   "execution_count": 33,
   "id": "356bf607",
   "metadata": {},
   "outputs": [
    {
     "data": {
      "text/html": [
       "<div>\n",
       "<style scoped>\n",
       "    .dataframe tbody tr th:only-of-type {\n",
       "        vertical-align: middle;\n",
       "    }\n",
       "\n",
       "    .dataframe tbody tr th {\n",
       "        vertical-align: top;\n",
       "    }\n",
       "\n",
       "    .dataframe thead th {\n",
       "        text-align: right;\n",
       "    }\n",
       "</style>\n",
       "<table border=\"1\" class=\"dataframe\">\n",
       "  <thead>\n",
       "    <tr style=\"text-align: right;\">\n",
       "      <th></th>\n",
       "      <th>brand</th>\n",
       "      <th>model</th>\n",
       "      <th>model_year</th>\n",
       "      <th>milage</th>\n",
       "      <th>fuel_type</th>\n",
       "      <th>engine</th>\n",
       "      <th>transmission</th>\n",
       "      <th>ext_col</th>\n",
       "      <th>int_col</th>\n",
       "      <th>accident</th>\n",
       "      <th>price</th>\n",
       "    </tr>\n",
       "  </thead>\n",
       "  <tbody>\n",
       "    <tr>\n",
       "      <th>0</th>\n",
       "      <td>14</td>\n",
       "      <td>Utility Police Interceptor Base</td>\n",
       "      <td>2013</td>\n",
       "      <td>51,000 mi.</td>\n",
       "      <td>E85 Flex Fuel</td>\n",
       "      <td>300.0HP 3.7L V6 Cylinder Engine Flex Fuel Capa...</td>\n",
       "      <td>6-Speed A/T</td>\n",
       "      <td>Black</td>\n",
       "      <td>Black</td>\n",
       "      <td>At least 1 accident or damage reported</td>\n",
       "      <td>10300</td>\n",
       "    </tr>\n",
       "    <tr>\n",
       "      <th>1</th>\n",
       "      <td>19</td>\n",
       "      <td>Palisade SEL</td>\n",
       "      <td>2021</td>\n",
       "      <td>34,742 mi.</td>\n",
       "      <td>Gasoline</td>\n",
       "      <td>3.8L V6 24V GDI DOHC</td>\n",
       "      <td>8-Speed Automatic</td>\n",
       "      <td>Moonlight Cloud</td>\n",
       "      <td>Gray</td>\n",
       "      <td>At least 1 accident or damage reported</td>\n",
       "      <td>38005</td>\n",
       "    </tr>\n",
       "    <tr>\n",
       "      <th>2</th>\n",
       "      <td>20</td>\n",
       "      <td>Q50 Hybrid Sport</td>\n",
       "      <td>2015</td>\n",
       "      <td>88,900 mi.</td>\n",
       "      <td>Hybrid</td>\n",
       "      <td>354.0HP 3.5L V6 Cylinder Engine Gas/Electric H...</td>\n",
       "      <td>7-Speed A/T</td>\n",
       "      <td>Black</td>\n",
       "      <td>Black</td>\n",
       "      <td>None reported</td>\n",
       "      <td>15500</td>\n",
       "    </tr>\n",
       "  </tbody>\n",
       "</table>\n",
       "</div>"
      ],
      "text/plain": [
       "   brand                            model  model_year      milage  \\\n",
       "0     14  Utility Police Interceptor Base        2013  51,000 mi.   \n",
       "1     19                     Palisade SEL        2021  34,742 mi.   \n",
       "2     20                 Q50 Hybrid Sport        2015  88,900 mi.   \n",
       "\n",
       "       fuel_type                                             engine  \\\n",
       "0  E85 Flex Fuel  300.0HP 3.7L V6 Cylinder Engine Flex Fuel Capa...   \n",
       "1       Gasoline                               3.8L V6 24V GDI DOHC   \n",
       "2         Hybrid  354.0HP 3.5L V6 Cylinder Engine Gas/Electric H...   \n",
       "\n",
       "        transmission          ext_col int_col  \\\n",
       "0        6-Speed A/T            Black   Black   \n",
       "1  8-Speed Automatic  Moonlight Cloud    Gray   \n",
       "2        7-Speed A/T            Black   Black   \n",
       "\n",
       "                                 accident  price  \n",
       "0  At least 1 accident or damage reported  10300  \n",
       "1  At least 1 accident or damage reported  38005  \n",
       "2                           None reported  15500  "
      ]
     },
     "execution_count": 33,
     "metadata": {},
     "output_type": "execute_result"
    }
   ],
   "source": [
    "df.head(3)"
   ]
  },
  {
   "cell_type": "code",
   "execution_count": null,
   "id": "431030ee",
   "metadata": {},
   "outputs": [],
   "source": []
  },
  {
   "cell_type": "markdown",
   "id": "4b040e0e",
   "metadata": {},
   "source": [
    "### Model "
   ]
  },
  {
   "cell_type": "code",
   "execution_count": 34,
   "id": "42283657",
   "metadata": {},
   "outputs": [],
   "source": [
    "df['model'] = scaler.fit_transform(df['model'])"
   ]
  },
  {
   "cell_type": "code",
   "execution_count": 35,
   "id": "39ead053",
   "metadata": {},
   "outputs": [
    {
     "data": {
      "text/html": [
       "<div>\n",
       "<style scoped>\n",
       "    .dataframe tbody tr th:only-of-type {\n",
       "        vertical-align: middle;\n",
       "    }\n",
       "\n",
       "    .dataframe tbody tr th {\n",
       "        vertical-align: top;\n",
       "    }\n",
       "\n",
       "    .dataframe thead th {\n",
       "        text-align: right;\n",
       "    }\n",
       "</style>\n",
       "<table border=\"1\" class=\"dataframe\">\n",
       "  <thead>\n",
       "    <tr style=\"text-align: right;\">\n",
       "      <th></th>\n",
       "      <th>brand</th>\n",
       "      <th>model</th>\n",
       "      <th>model_year</th>\n",
       "      <th>milage</th>\n",
       "      <th>fuel_type</th>\n",
       "      <th>engine</th>\n",
       "      <th>transmission</th>\n",
       "      <th>ext_col</th>\n",
       "      <th>int_col</th>\n",
       "      <th>accident</th>\n",
       "      <th>price</th>\n",
       "    </tr>\n",
       "  </thead>\n",
       "  <tbody>\n",
       "    <tr>\n",
       "      <th>0</th>\n",
       "      <td>14</td>\n",
       "      <td>1481</td>\n",
       "      <td>2013</td>\n",
       "      <td>51,000 mi.</td>\n",
       "      <td>E85 Flex Fuel</td>\n",
       "      <td>300.0HP 3.7L V6 Cylinder Engine Flex Fuel Capa...</td>\n",
       "      <td>6-Speed A/T</td>\n",
       "      <td>Black</td>\n",
       "      <td>Black</td>\n",
       "      <td>At least 1 accident or damage reported</td>\n",
       "      <td>10300</td>\n",
       "    </tr>\n",
       "    <tr>\n",
       "      <th>1</th>\n",
       "      <td>19</td>\n",
       "      <td>1011</td>\n",
       "      <td>2021</td>\n",
       "      <td>34,742 mi.</td>\n",
       "      <td>Gasoline</td>\n",
       "      <td>3.8L V6 24V GDI DOHC</td>\n",
       "      <td>8-Speed Automatic</td>\n",
       "      <td>Moonlight Cloud</td>\n",
       "      <td>Gray</td>\n",
       "      <td>At least 1 accident or damage reported</td>\n",
       "      <td>38005</td>\n",
       "    </tr>\n",
       "  </tbody>\n",
       "</table>\n",
       "</div>"
      ],
      "text/plain": [
       "   brand  model  model_year      milage      fuel_type  \\\n",
       "0     14   1481        2013  51,000 mi.  E85 Flex Fuel   \n",
       "1     19   1011        2021  34,742 mi.       Gasoline   \n",
       "\n",
       "                                              engine       transmission  \\\n",
       "0  300.0HP 3.7L V6 Cylinder Engine Flex Fuel Capa...        6-Speed A/T   \n",
       "1                               3.8L V6 24V GDI DOHC  8-Speed Automatic   \n",
       "\n",
       "           ext_col int_col                                accident  price  \n",
       "0            Black   Black  At least 1 accident or damage reported  10300  \n",
       "1  Moonlight Cloud    Gray  At least 1 accident or damage reported  38005  "
      ]
     },
     "execution_count": 35,
     "metadata": {},
     "output_type": "execute_result"
    }
   ],
   "source": [
    "df.head(2)"
   ]
  },
  {
   "cell_type": "code",
   "execution_count": 36,
   "id": "28e60443",
   "metadata": {},
   "outputs": [],
   "source": [
    "milage = scaler.fit(df['milage'])\n",
    "df['milage'] = milage.transform(df['milage'])"
   ]
  },
  {
   "cell_type": "code",
   "execution_count": 37,
   "id": "a5c63e53",
   "metadata": {},
   "outputs": [
    {
     "data": {
      "text/html": [
       "<div>\n",
       "<style scoped>\n",
       "    .dataframe tbody tr th:only-of-type {\n",
       "        vertical-align: middle;\n",
       "    }\n",
       "\n",
       "    .dataframe tbody tr th {\n",
       "        vertical-align: top;\n",
       "    }\n",
       "\n",
       "    .dataframe thead th {\n",
       "        text-align: right;\n",
       "    }\n",
       "</style>\n",
       "<table border=\"1\" class=\"dataframe\">\n",
       "  <thead>\n",
       "    <tr style=\"text-align: right;\">\n",
       "      <th></th>\n",
       "      <th>brand</th>\n",
       "      <th>model</th>\n",
       "      <th>model_year</th>\n",
       "      <th>milage</th>\n",
       "      <th>fuel_type</th>\n",
       "      <th>engine</th>\n",
       "      <th>transmission</th>\n",
       "      <th>ext_col</th>\n",
       "      <th>int_col</th>\n",
       "      <th>accident</th>\n",
       "      <th>price</th>\n",
       "    </tr>\n",
       "  </thead>\n",
       "  <tbody>\n",
       "    <tr>\n",
       "      <th>0</th>\n",
       "      <td>14</td>\n",
       "      <td>1481</td>\n",
       "      <td>2013</td>\n",
       "      <td>1413</td>\n",
       "      <td>E85 Flex Fuel</td>\n",
       "      <td>300.0HP 3.7L V6 Cylinder Engine Flex Fuel Capa...</td>\n",
       "      <td>6-Speed A/T</td>\n",
       "      <td>Black</td>\n",
       "      <td>Black</td>\n",
       "      <td>At least 1 accident or damage reported</td>\n",
       "      <td>10300</td>\n",
       "    </tr>\n",
       "    <tr>\n",
       "      <th>1</th>\n",
       "      <td>19</td>\n",
       "      <td>1011</td>\n",
       "      <td>2021</td>\n",
       "      <td>1106</td>\n",
       "      <td>Gasoline</td>\n",
       "      <td>3.8L V6 24V GDI DOHC</td>\n",
       "      <td>8-Speed Automatic</td>\n",
       "      <td>Moonlight Cloud</td>\n",
       "      <td>Gray</td>\n",
       "      <td>At least 1 accident or damage reported</td>\n",
       "      <td>38005</td>\n",
       "    </tr>\n",
       "    <tr>\n",
       "      <th>2</th>\n",
       "      <td>20</td>\n",
       "      <td>1055</td>\n",
       "      <td>2015</td>\n",
       "      <td>2026</td>\n",
       "      <td>Hybrid</td>\n",
       "      <td>354.0HP 3.5L V6 Cylinder Engine Gas/Electric H...</td>\n",
       "      <td>7-Speed A/T</td>\n",
       "      <td>Black</td>\n",
       "      <td>Black</td>\n",
       "      <td>None reported</td>\n",
       "      <td>15500</td>\n",
       "    </tr>\n",
       "  </tbody>\n",
       "</table>\n",
       "</div>"
      ],
      "text/plain": [
       "   brand  model  model_year  milage      fuel_type  \\\n",
       "0     14   1481        2013    1413  E85 Flex Fuel   \n",
       "1     19   1011        2021    1106       Gasoline   \n",
       "2     20   1055        2015    2026         Hybrid   \n",
       "\n",
       "                                              engine       transmission  \\\n",
       "0  300.0HP 3.7L V6 Cylinder Engine Flex Fuel Capa...        6-Speed A/T   \n",
       "1                               3.8L V6 24V GDI DOHC  8-Speed Automatic   \n",
       "2  354.0HP 3.5L V6 Cylinder Engine Gas/Electric H...        7-Speed A/T   \n",
       "\n",
       "           ext_col int_col                                accident  price  \n",
       "0            Black   Black  At least 1 accident or damage reported  10300  \n",
       "1  Moonlight Cloud    Gray  At least 1 accident or damage reported  38005  \n",
       "2            Black   Black                           None reported  15500  "
      ]
     },
     "execution_count": 37,
     "metadata": {},
     "output_type": "execute_result"
    }
   ],
   "source": [
    "df.head(3)"
   ]
  },
  {
   "cell_type": "code",
   "execution_count": 38,
   "id": "d748dd26",
   "metadata": {},
   "outputs": [],
   "source": [
    "df['fuel_type'] = scaler.fit_transform(df['fuel_type'])\n",
    "df['engine'] = scaler.fit_transform(df['engine'])\n",
    "df['transmission'] = scaler.fit_transform(df['transmission'])\n",
    "df['ext_col'] = scaler.fit_transform(df['ext_col'])\n",
    "df['int_col'] = scaler.fit_transform(df['int_col'])\n",
    "df['accident'] = scaler.fit_transform(df['accident'])"
   ]
  },
  {
   "cell_type": "code",
   "execution_count": 39,
   "id": "948e0828",
   "metadata": {},
   "outputs": [
    {
     "data": {
      "text/html": [
       "<div>\n",
       "<style scoped>\n",
       "    .dataframe tbody tr th:only-of-type {\n",
       "        vertical-align: middle;\n",
       "    }\n",
       "\n",
       "    .dataframe tbody tr th {\n",
       "        vertical-align: top;\n",
       "    }\n",
       "\n",
       "    .dataframe thead th {\n",
       "        text-align: right;\n",
       "    }\n",
       "</style>\n",
       "<table border=\"1\" class=\"dataframe\">\n",
       "  <thead>\n",
       "    <tr style=\"text-align: right;\">\n",
       "      <th></th>\n",
       "      <th>brand</th>\n",
       "      <th>model</th>\n",
       "      <th>model_year</th>\n",
       "      <th>milage</th>\n",
       "      <th>fuel_type</th>\n",
       "      <th>engine</th>\n",
       "      <th>transmission</th>\n",
       "      <th>ext_col</th>\n",
       "      <th>int_col</th>\n",
       "      <th>accident</th>\n",
       "      <th>price</th>\n",
       "    </tr>\n",
       "  </thead>\n",
       "  <tbody>\n",
       "    <tr>\n",
       "      <th>0</th>\n",
       "      <td>14</td>\n",
       "      <td>1481</td>\n",
       "      <td>2013</td>\n",
       "      <td>1413</td>\n",
       "      <td>1</td>\n",
       "      <td>492</td>\n",
       "      <td>7</td>\n",
       "      <td>8</td>\n",
       "      <td>1</td>\n",
       "      <td>0</td>\n",
       "      <td>10300</td>\n",
       "    </tr>\n",
       "    <tr>\n",
       "      <th>1</th>\n",
       "      <td>19</td>\n",
       "      <td>1011</td>\n",
       "      <td>2021</td>\n",
       "      <td>1106</td>\n",
       "      <td>2</td>\n",
       "      <td>478</td>\n",
       "      <td>20</td>\n",
       "      <td>69</td>\n",
       "      <td>32</td>\n",
       "      <td>0</td>\n",
       "      <td>38005</td>\n",
       "    </tr>\n",
       "    <tr>\n",
       "      <th>2</th>\n",
       "      <td>20</td>\n",
       "      <td>1055</td>\n",
       "      <td>2015</td>\n",
       "      <td>2026</td>\n",
       "      <td>3</td>\n",
       "      <td>630</td>\n",
       "      <td>13</td>\n",
       "      <td>8</td>\n",
       "      <td>1</td>\n",
       "      <td>1</td>\n",
       "      <td>15500</td>\n",
       "    </tr>\n",
       "  </tbody>\n",
       "</table>\n",
       "</div>"
      ],
      "text/plain": [
       "   brand  model  model_year  milage  fuel_type  engine  transmission  ext_col  \\\n",
       "0     14   1481        2013    1413          1     492             7        8   \n",
       "1     19   1011        2021    1106          2     478            20       69   \n",
       "2     20   1055        2015    2026          3     630            13        8   \n",
       "\n",
       "   int_col  accident  price  \n",
       "0        1         0  10300  \n",
       "1       32         0  38005  \n",
       "2        1         1  15500  "
      ]
     },
     "execution_count": 39,
     "metadata": {},
     "output_type": "execute_result"
    }
   ],
   "source": [
    "df.head(3)"
   ]
  },
  {
   "cell_type": "code",
   "execution_count": 40,
   "id": "f1a13115",
   "metadata": {},
   "outputs": [
    {
     "data": {
      "text/html": [
       "<div>\n",
       "<style scoped>\n",
       "    .dataframe tbody tr th:only-of-type {\n",
       "        vertical-align: middle;\n",
       "    }\n",
       "\n",
       "    .dataframe tbody tr th {\n",
       "        vertical-align: top;\n",
       "    }\n",
       "\n",
       "    .dataframe thead th {\n",
       "        text-align: right;\n",
       "    }\n",
       "</style>\n",
       "<table border=\"1\" class=\"dataframe\">\n",
       "  <thead>\n",
       "    <tr style=\"text-align: right;\">\n",
       "      <th></th>\n",
       "      <th>brand</th>\n",
       "      <th>model</th>\n",
       "      <th>model_year</th>\n",
       "      <th>milage</th>\n",
       "      <th>fuel_type</th>\n",
       "      <th>engine</th>\n",
       "      <th>transmission</th>\n",
       "      <th>ext_col</th>\n",
       "      <th>int_col</th>\n",
       "      <th>accident</th>\n",
       "      <th>price</th>\n",
       "    </tr>\n",
       "  </thead>\n",
       "  <tbody>\n",
       "    <tr>\n",
       "      <th>count</th>\n",
       "      <td>3269.000000</td>\n",
       "      <td>3269.000000</td>\n",
       "      <td>3269.000000</td>\n",
       "      <td>3269.000000</td>\n",
       "      <td>3269.000000</td>\n",
       "      <td>3269.000000</td>\n",
       "      <td>3269.00000</td>\n",
       "      <td>3269.000000</td>\n",
       "      <td>3269.000000</td>\n",
       "      <td>3269.000000</td>\n",
       "      <td>3269.000000</td>\n",
       "    </tr>\n",
       "    <tr>\n",
       "      <th>mean</th>\n",
       "      <td>21.850107</td>\n",
       "      <td>786.246864</td>\n",
       "      <td>2014.601407</td>\n",
       "      <td>1095.372285</td>\n",
       "      <td>2.018660</td>\n",
       "      <td>511.435913</td>\n",
       "      <td>17.84766</td>\n",
       "      <td>57.428571</td>\n",
       "      <td>13.474763</td>\n",
       "      <td>0.713368</td>\n",
       "      <td>39253.492505</td>\n",
       "    </tr>\n",
       "    <tr>\n",
       "      <th>std</th>\n",
       "      <td>14.550176</td>\n",
       "      <td>464.871025</td>\n",
       "      <td>6.152181</td>\n",
       "      <td>638.471497</td>\n",
       "      <td>0.685097</td>\n",
       "      <td>254.556964</td>\n",
       "      <td>8.98772</td>\n",
       "      <td>43.151092</td>\n",
       "      <td>21.674862</td>\n",
       "      <td>0.452257</td>\n",
       "      <td>49388.803508</td>\n",
       "    </tr>\n",
       "    <tr>\n",
       "      <th>min</th>\n",
       "      <td>0.000000</td>\n",
       "      <td>0.000000</td>\n",
       "      <td>1974.000000</td>\n",
       "      <td>0.000000</td>\n",
       "      <td>0.000000</td>\n",
       "      <td>0.000000</td>\n",
       "      <td>0.00000</td>\n",
       "      <td>0.000000</td>\n",
       "      <td>0.000000</td>\n",
       "      <td>0.000000</td>\n",
       "      <td>1599.000000</td>\n",
       "    </tr>\n",
       "    <tr>\n",
       "      <th>25%</th>\n",
       "      <td>9.000000</td>\n",
       "      <td>404.000000</td>\n",
       "      <td>2011.000000</td>\n",
       "      <td>531.000000</td>\n",
       "      <td>2.000000</td>\n",
       "      <td>298.000000</td>\n",
       "      <td>10.00000</td>\n",
       "      <td>8.000000</td>\n",
       "      <td>1.000000</td>\n",
       "      <td>0.000000</td>\n",
       "      <td>15500.000000</td>\n",
       "    </tr>\n",
       "    <tr>\n",
       "      <th>50%</th>\n",
       "      <td>20.000000</td>\n",
       "      <td>755.000000</td>\n",
       "      <td>2016.000000</td>\n",
       "      <td>1121.000000</td>\n",
       "      <td>2.000000</td>\n",
       "      <td>528.000000</td>\n",
       "      <td>20.00000</td>\n",
       "      <td>46.000000</td>\n",
       "      <td>1.000000</td>\n",
       "      <td>1.000000</td>\n",
       "      <td>28000.000000</td>\n",
       "    </tr>\n",
       "    <tr>\n",
       "      <th>75%</th>\n",
       "      <td>34.000000</td>\n",
       "      <td>1194.000000</td>\n",
       "      <td>2019.000000</td>\n",
       "      <td>1645.000000</td>\n",
       "      <td>2.000000</td>\n",
       "      <td>723.000000</td>\n",
       "      <td>24.00000</td>\n",
       "      <td>94.000000</td>\n",
       "      <td>32.000000</td>\n",
       "      <td>1.000000</td>\n",
       "      <td>46000.000000</td>\n",
       "    </tr>\n",
       "    <tr>\n",
       "      <th>max</th>\n",
       "      <td>51.000000</td>\n",
       "      <td>1613.000000</td>\n",
       "      <td>2024.000000</td>\n",
       "      <td>2193.000000</td>\n",
       "      <td>6.000000</td>\n",
       "      <td>962.000000</td>\n",
       "      <td>31.00000</td>\n",
       "      <td>119.000000</td>\n",
       "      <td>73.000000</td>\n",
       "      <td>1.000000</td>\n",
       "      <td>749950.000000</td>\n",
       "    </tr>\n",
       "  </tbody>\n",
       "</table>\n",
       "</div>"
      ],
      "text/plain": [
       "             brand        model   model_year       milage    fuel_type  \\\n",
       "count  3269.000000  3269.000000  3269.000000  3269.000000  3269.000000   \n",
       "mean     21.850107   786.246864  2014.601407  1095.372285     2.018660   \n",
       "std      14.550176   464.871025     6.152181   638.471497     0.685097   \n",
       "min       0.000000     0.000000  1974.000000     0.000000     0.000000   \n",
       "25%       9.000000   404.000000  2011.000000   531.000000     2.000000   \n",
       "50%      20.000000   755.000000  2016.000000  1121.000000     2.000000   \n",
       "75%      34.000000  1194.000000  2019.000000  1645.000000     2.000000   \n",
       "max      51.000000  1613.000000  2024.000000  2193.000000     6.000000   \n",
       "\n",
       "            engine  transmission      ext_col      int_col     accident  \\\n",
       "count  3269.000000    3269.00000  3269.000000  3269.000000  3269.000000   \n",
       "mean    511.435913      17.84766    57.428571    13.474763     0.713368   \n",
       "std     254.556964       8.98772    43.151092    21.674862     0.452257   \n",
       "min       0.000000       0.00000     0.000000     0.000000     0.000000   \n",
       "25%     298.000000      10.00000     8.000000     1.000000     0.000000   \n",
       "50%     528.000000      20.00000    46.000000     1.000000     1.000000   \n",
       "75%     723.000000      24.00000    94.000000    32.000000     1.000000   \n",
       "max     962.000000      31.00000   119.000000    73.000000     1.000000   \n",
       "\n",
       "               price  \n",
       "count    3269.000000  \n",
       "mean    39253.492505  \n",
       "std     49388.803508  \n",
       "min      1599.000000  \n",
       "25%     15500.000000  \n",
       "50%     28000.000000  \n",
       "75%     46000.000000  \n",
       "max    749950.000000  "
      ]
     },
     "execution_count": 40,
     "metadata": {},
     "output_type": "execute_result"
    }
   ],
   "source": [
    "df.describe()"
   ]
  },
  {
   "cell_type": "markdown",
   "id": "0b7048c6",
   "metadata": {},
   "source": [
    "### Select target variable"
   ]
  },
  {
   "cell_type": "code",
   "execution_count": 43,
   "id": "757ce796",
   "metadata": {},
   "outputs": [],
   "source": [
    "X  = df.drop(columns=['price'])\n",
    "y = df['price']\n",
    "from sklearn.svm import SVC"
   ]
  },
  {
   "cell_type": "markdown",
   "id": "6e28c06d",
   "metadata": {},
   "source": [
    "### Standard Scallar"
   ]
  },
  {
   "cell_type": "code",
   "execution_count": 44,
   "id": "73de8128",
   "metadata": {},
   "outputs": [],
   "source": [
    "pipeline = Pipeline([\n",
    "    ('scaler', StandardScaler()),\n",
    "    ('model', SVC())\n",
    "])"
   ]
  },
  {
   "cell_type": "code",
   "execution_count": 45,
   "id": "fd4565d9",
   "metadata": {},
   "outputs": [],
   "source": [
    "x_train, x_test, y_train, y_test = train_test_split(X, y, train_size=0.8, random_state=101)"
   ]
  },
  {
   "cell_type": "code",
   "execution_count": 46,
   "id": "33ac8837",
   "metadata": {},
   "outputs": [
    {
     "data": {
      "text/html": [
       "<style>#sk-container-id-1 {color: black;}#sk-container-id-1 pre{padding: 0;}#sk-container-id-1 div.sk-toggleable {background-color: white;}#sk-container-id-1 label.sk-toggleable__label {cursor: pointer;display: block;width: 100%;margin-bottom: 0;padding: 0.3em;box-sizing: border-box;text-align: center;}#sk-container-id-1 label.sk-toggleable__label-arrow:before {content: \"▸\";float: left;margin-right: 0.25em;color: #696969;}#sk-container-id-1 label.sk-toggleable__label-arrow:hover:before {color: black;}#sk-container-id-1 div.sk-estimator:hover label.sk-toggleable__label-arrow:before {color: black;}#sk-container-id-1 div.sk-toggleable__content {max-height: 0;max-width: 0;overflow: hidden;text-align: left;background-color: #f0f8ff;}#sk-container-id-1 div.sk-toggleable__content pre {margin: 0.2em;color: black;border-radius: 0.25em;background-color: #f0f8ff;}#sk-container-id-1 input.sk-toggleable__control:checked~div.sk-toggleable__content {max-height: 200px;max-width: 100%;overflow: auto;}#sk-container-id-1 input.sk-toggleable__control:checked~label.sk-toggleable__label-arrow:before {content: \"▾\";}#sk-container-id-1 div.sk-estimator input.sk-toggleable__control:checked~label.sk-toggleable__label {background-color: #d4ebff;}#sk-container-id-1 div.sk-label input.sk-toggleable__control:checked~label.sk-toggleable__label {background-color: #d4ebff;}#sk-container-id-1 input.sk-hidden--visually {border: 0;clip: rect(1px 1px 1px 1px);clip: rect(1px, 1px, 1px, 1px);height: 1px;margin: -1px;overflow: hidden;padding: 0;position: absolute;width: 1px;}#sk-container-id-1 div.sk-estimator {font-family: monospace;background-color: #f0f8ff;border: 1px dotted black;border-radius: 0.25em;box-sizing: border-box;margin-bottom: 0.5em;}#sk-container-id-1 div.sk-estimator:hover {background-color: #d4ebff;}#sk-container-id-1 div.sk-parallel-item::after {content: \"\";width: 100%;border-bottom: 1px solid gray;flex-grow: 1;}#sk-container-id-1 div.sk-label:hover label.sk-toggleable__label {background-color: #d4ebff;}#sk-container-id-1 div.sk-serial::before {content: \"\";position: absolute;border-left: 1px solid gray;box-sizing: border-box;top: 0;bottom: 0;left: 50%;z-index: 0;}#sk-container-id-1 div.sk-serial {display: flex;flex-direction: column;align-items: center;background-color: white;padding-right: 0.2em;padding-left: 0.2em;position: relative;}#sk-container-id-1 div.sk-item {position: relative;z-index: 1;}#sk-container-id-1 div.sk-parallel {display: flex;align-items: stretch;justify-content: center;background-color: white;position: relative;}#sk-container-id-1 div.sk-item::before, #sk-container-id-1 div.sk-parallel-item::before {content: \"\";position: absolute;border-left: 1px solid gray;box-sizing: border-box;top: 0;bottom: 0;left: 50%;z-index: -1;}#sk-container-id-1 div.sk-parallel-item {display: flex;flex-direction: column;z-index: 1;position: relative;background-color: white;}#sk-container-id-1 div.sk-parallel-item:first-child::after {align-self: flex-end;width: 50%;}#sk-container-id-1 div.sk-parallel-item:last-child::after {align-self: flex-start;width: 50%;}#sk-container-id-1 div.sk-parallel-item:only-child::after {width: 0;}#sk-container-id-1 div.sk-dashed-wrapped {border: 1px dashed gray;margin: 0 0.4em 0.5em 0.4em;box-sizing: border-box;padding-bottom: 0.4em;background-color: white;}#sk-container-id-1 div.sk-label label {font-family: monospace;font-weight: bold;display: inline-block;line-height: 1.2em;}#sk-container-id-1 div.sk-label-container {text-align: center;}#sk-container-id-1 div.sk-container {/* jupyter's `normalize.less` sets `[hidden] { display: none; }` but bootstrap.min.css set `[hidden] { display: none !important; }` so we also need the `!important` here to be able to override the default hidden behavior on the sphinx rendered scikit-learn.org. See: https://github.com/scikit-learn/scikit-learn/issues/21755 */display: inline-block !important;position: relative;}#sk-container-id-1 div.sk-text-repr-fallback {display: none;}</style><div id=\"sk-container-id-1\" class=\"sk-top-container\"><div class=\"sk-text-repr-fallback\"><pre>Pipeline(steps=[(&#x27;scaler&#x27;, StandardScaler()), (&#x27;model&#x27;, SVC())])</pre><b>In a Jupyter environment, please rerun this cell to show the HTML representation or trust the notebook. <br />On GitHub, the HTML representation is unable to render, please try loading this page with nbviewer.org.</b></div><div class=\"sk-container\" hidden><div class=\"sk-item sk-dashed-wrapped\"><div class=\"sk-label-container\"><div class=\"sk-label sk-toggleable\"><input class=\"sk-toggleable__control sk-hidden--visually\" id=\"sk-estimator-id-1\" type=\"checkbox\" ><label for=\"sk-estimator-id-1\" class=\"sk-toggleable__label sk-toggleable__label-arrow\">Pipeline</label><div class=\"sk-toggleable__content\"><pre>Pipeline(steps=[(&#x27;scaler&#x27;, StandardScaler()), (&#x27;model&#x27;, SVC())])</pre></div></div></div><div class=\"sk-serial\"><div class=\"sk-item\"><div class=\"sk-estimator sk-toggleable\"><input class=\"sk-toggleable__control sk-hidden--visually\" id=\"sk-estimator-id-2\" type=\"checkbox\" ><label for=\"sk-estimator-id-2\" class=\"sk-toggleable__label sk-toggleable__label-arrow\">StandardScaler</label><div class=\"sk-toggleable__content\"><pre>StandardScaler()</pre></div></div></div><div class=\"sk-item\"><div class=\"sk-estimator sk-toggleable\"><input class=\"sk-toggleable__control sk-hidden--visually\" id=\"sk-estimator-id-3\" type=\"checkbox\" ><label for=\"sk-estimator-id-3\" class=\"sk-toggleable__label sk-toggleable__label-arrow\">SVC</label><div class=\"sk-toggleable__content\"><pre>SVC()</pre></div></div></div></div></div></div></div>"
      ],
      "text/plain": [
       "Pipeline(steps=[('scaler', StandardScaler()), ('model', SVC())])"
      ]
     },
     "execution_count": 46,
     "metadata": {},
     "output_type": "execute_result"
    }
   ],
   "source": [
    "pipeline.fit(x_train, y_train)"
   ]
  },
  {
   "cell_type": "code",
   "execution_count": 48,
   "id": "226ba2e1",
   "metadata": {},
   "outputs": [],
   "source": [
    "y_p = pipeline.predict(x_test)"
   ]
  },
  {
   "cell_type": "code",
   "execution_count": 49,
   "id": "cd8260fb",
   "metadata": {},
   "outputs": [
    {
     "data": {
      "text/plain": [
       "array([15000, 30000, 55000, 29000, 50000, 36000, 17500, 15000, 15000,\n",
       "       15000, 17500, 31000, 35000, 17500, 15000, 15000, 11500, 17500,\n",
       "       15000, 30000, 50000, 10500, 50000, 35000, 30000, 15000, 26000,\n",
       "       15000, 30000, 24000, 15000, 15000, 65000, 15000, 15000, 13000,\n",
       "       30000, 35000, 12500, 50000, 15000, 30000, 30000, 15000, 26000,\n",
       "       15000, 15000, 12500, 31000, 15000, 36000, 15000, 12500, 15000,\n",
       "       36000, 36000, 12500, 17500, 31000, 15000, 24000, 55000, 65000,\n",
       "       50000,  9500,  5500, 29000, 50000,  8500, 29000, 30000, 35000,\n",
       "       29000, 31000, 17500, 50000, 35000, 50000, 15000, 35000, 35000,\n",
       "       26500, 15000, 15000, 17500, 31000, 26000, 36000, 17500, 35000,\n",
       "       15000, 12000, 18000, 15000, 15000, 50000, 15000, 11000, 26500,\n",
       "       31000, 50000, 15000, 15000, 26500, 50000, 11500, 30000, 15000,\n",
       "       15000, 29000, 29000, 12500, 15000,  8500, 26000, 29000, 35000,\n",
       "       29000, 17000, 50000, 36000, 15000, 29000, 55000, 15000, 31000,\n",
       "       16000,  9000, 50000, 35000, 31000,  8500, 15000, 17500, 15000,\n",
       "       50000, 36000, 12500, 15000, 24000, 26500,  8500, 12500, 24000,\n",
       "       15000, 35000, 15000, 15000, 31000, 31000, 36000, 15000, 17500,\n",
       "       15000, 35000, 35000, 36000, 12000, 12500, 15000, 26500, 29000,\n",
       "       50000, 29000,  6500, 35000, 30000, 30000, 50000, 15000, 15000,\n",
       "       15000, 12000, 15000, 75000, 15000, 26500, 30000, 15000, 35000,\n",
       "       35000, 29000, 30000, 50000, 15000, 30000, 26500, 30000, 35000,\n",
       "       30000,  6500, 15000, 15000, 11500, 15000, 11500, 15000, 32000,\n",
       "       15000, 15000, 15000, 65000, 35000, 31000, 32000,  8500,  6500,\n",
       "       50000, 65000, 31000,  8500, 26000, 26000,  6500, 15000, 15000,\n",
       "       30000, 32000, 35000, 17000, 50000, 15000, 29000, 15000, 15000,\n",
       "       32000, 65000,  8500, 35000, 15000, 35000, 35000,  6500, 26000,\n",
       "       15000, 35000, 35000, 15000, 15000, 12500, 15000,  6500, 30000,\n",
       "       36000, 12500, 36000,  6500, 15000, 30000, 15000, 17000, 35000,\n",
       "       35000, 29000, 17500, 15000, 31000, 15000,  6500, 29000, 15000,\n",
       "       15000, 15000, 15000, 15000, 15000, 31000, 15000, 15000, 29000,\n",
       "       17500, 29000,  8500, 12500, 24000, 15000, 35000, 15000,  6500,\n",
       "       15000, 15000, 29000, 15000, 15000, 31000, 30000,  8500, 15000,\n",
       "       15000, 11000, 31000, 30000, 26500, 55000, 32000, 30000, 17500,\n",
       "        8500, 21000, 15500, 15000,  9500, 26000,  5000, 35000, 15000,\n",
       "       50000, 35000, 17500, 50000, 50000, 55000,  6500, 35000, 26000,\n",
       "       35000, 35000, 29000, 15000, 75000, 15000, 35000, 31000, 50000,\n",
       "       30000,  6500, 29000, 26000, 30000, 55000, 35000, 30000,  8500,\n",
       "       24000, 30000, 15000, 15000,  6500, 10000, 15000, 12500, 26000,\n",
       "       50000, 17500, 55000, 12500, 15000, 31000, 14500, 15000, 29000,\n",
       "       17500, 55000, 29000, 12000, 31000, 29000, 19500, 29000, 15000,\n",
       "       15000, 35000, 35000, 15000, 12500, 19500, 15000, 17500,  6500,\n",
       "       30000, 75000, 15000, 65000,  8500, 15000, 12500, 35000, 75000,\n",
       "       15000, 30000, 31000, 12500, 15000, 35000, 30000, 30000, 15000,\n",
       "       15000, 15000, 16000, 15000, 31000, 65000, 15000, 24000, 15000,\n",
       "       35000, 24000, 15000, 17900, 12000,  8500, 26500, 36000, 30000,\n",
       "       12500, 15000, 50000, 17500, 35000, 15000, 50000, 17000, 26000,\n",
       "       26000, 11500, 29000, 15000, 17500, 17500, 31000, 30000, 12500,\n",
       "       65000, 24000, 65000, 15000, 26000, 50000, 12000, 17500, 15000,\n",
       "       35000, 15000, 15000, 15000, 15000, 26000, 75000, 30000, 55000,\n",
       "       50000, 29000, 29000, 26500, 26000, 35000, 17500, 36000, 29000,\n",
       "       15000, 17500, 15000, 12500,  8500, 15000,  8500, 30000, 15000,\n",
       "       17500, 15000, 15000, 18000, 15500, 15000, 15000, 15000,  8500,\n",
       "       26000, 32000, 15000, 15000, 17500, 18000, 30000, 16000, 31000,\n",
       "        8500, 35000, 12500,  6500, 50000, 26500, 29000, 15000,  8500,\n",
       "       35000, 50000, 55000, 15500, 55000, 29000, 31000, 11500, 16000,\n",
       "       12000, 31000, 15000, 30000, 35000, 15000,  8500,  6500, 29000,\n",
       "       15000, 15000, 17500, 31000, 24000, 11500, 15000, 55000, 12500,\n",
       "        8500, 15000, 35000, 24000, 36000, 29000, 30000,  8500, 50000,\n",
       "       29000,  9000, 17500, 65000, 15000, 65000, 20000, 15000, 12000,\n",
       "       12500, 12000, 50000, 15000,  8500, 17500, 15000, 65000, 15000,\n",
       "       35000, 15000, 26000, 15000, 55000, 35000, 35000, 26000, 26500,\n",
       "       24000, 15000, 15000, 35000, 15000, 15000, 35000, 35000, 26000,\n",
       "       35000, 36000, 12000, 15000, 65000, 31000, 15000, 55000, 15000,\n",
       "       36000, 17500, 15000, 15000, 15000, 36000, 30000, 50000, 15000,\n",
       "       18000, 26000, 15000, 29000,  6500, 11500, 35000, 12500, 36000,\n",
       "       16000, 15000, 12500, 55000, 55000, 15000, 17500, 26000, 15000,\n",
       "       24000, 17500, 15000, 26500, 30000, 30000, 30000, 26000, 15000,\n",
       "        8500, 30000, 15000, 15000, 50000, 30000, 29000, 35000, 17500,\n",
       "       35000, 15000, 15000, 31000, 35000, 50000, 30000, 31000, 50000,\n",
       "       15000, 15000, 15000, 15000, 31000, 15000, 31000, 19500, 17500,\n",
       "       50000, 35000, 17500, 32000, 15000, 30000, 26000, 15000, 15000,\n",
       "       11500, 15000, 15000, 17500, 26000, 12500, 15000, 29000, 12500,\n",
       "       26000, 15000, 17500, 19500, 12500, 15000], dtype=int64)"
      ]
     },
     "execution_count": 49,
     "metadata": {},
     "output_type": "execute_result"
    }
   ],
   "source": [
    "y_p"
   ]
  },
  {
   "cell_type": "code",
   "execution_count": null,
   "id": "6426bf40",
   "metadata": {},
   "outputs": [],
   "source": []
  },
  {
   "cell_type": "code",
   "execution_count": null,
   "id": "6f16fe7b",
   "metadata": {},
   "outputs": [],
   "source": [
    "from sklearn.preprocessing import StandardScaler"
   ]
  },
  {
   "cell_type": "code",
   "execution_count": null,
   "id": "95b4f744",
   "metadata": {},
   "outputs": [],
   "source": [
    "scallar = StandardScaler()\n",
    "X = scallar.fit_transform(X)"
   ]
  },
  {
   "cell_type": "code",
   "execution_count": null,
   "id": "f18cd026",
   "metadata": {},
   "outputs": [],
   "source": [
    "X"
   ]
  },
  {
   "cell_type": "code",
   "execution_count": null,
   "id": "c2935952",
   "metadata": {},
   "outputs": [],
   "source": []
  },
  {
   "cell_type": "markdown",
   "id": "e975b02c",
   "metadata": {},
   "source": [
    "### Split dataset into train and test"
   ]
  },
  {
   "cell_type": "code",
   "execution_count": null,
   "id": "0ba60a05",
   "metadata": {},
   "outputs": [],
   "source": [
    "x_train, x_test, y_train, y_test = train_test_split(X, y, train_size=0.8, random_state=101)"
   ]
  },
  {
   "cell_type": "code",
   "execution_count": null,
   "id": "55cc7e20",
   "metadata": {},
   "outputs": [],
   "source": [
    "x_train.shape"
   ]
  },
  {
   "cell_type": "code",
   "execution_count": null,
   "id": "65f69ac3",
   "metadata": {},
   "outputs": [],
   "source": [
    "x_test.shape"
   ]
  },
  {
   "cell_type": "code",
   "execution_count": null,
   "id": "09460985",
   "metadata": {},
   "outputs": [],
   "source": []
  },
  {
   "cell_type": "markdown",
   "id": "ad13689d",
   "metadata": {},
   "source": [
    "### Load libraries for training"
   ]
  },
  {
   "cell_type": "code",
   "execution_count": null,
   "id": "105cbb12",
   "metadata": {},
   "outputs": [],
   "source": [
    "from sklearn.svm import SVC\n",
    "from sklearn.ensemble import RandomForestRegressor\n",
    "from sklearn.linear_model import LogisticRegression"
   ]
  },
  {
   "cell_type": "code",
   "execution_count": null,
   "id": "9a47f7ae",
   "metadata": {},
   "outputs": [],
   "source": []
  },
  {
   "cell_type": "code",
   "execution_count": null,
   "id": "6a7f5cb9",
   "metadata": {},
   "outputs": [],
   "source": [
    "models = {\n",
    "    'svc':SVC(),\n",
    "    'logistic_regression': LogisticRegression()\n",
    "}"
   ]
  },
  {
   "cell_type": "code",
   "execution_count": null,
   "id": "e3dfa13d",
   "metadata": {},
   "outputs": [],
   "source": [
    "for model_name, model in models.items():\n",
    "    classifier = model\n",
    "    classifier.fit(x_train, y_train)\n",
    "    y_pred = classifier.predict(x_test)\n",
    "    accuracy_s = accuracy_score(y_pred, y_test)\n",
    "    print(f'For Model {model_name} accuracy score is {accuracy_s}')"
   ]
  },
  {
   "cell_type": "code",
   "execution_count": null,
   "id": "72cd3809",
   "metadata": {},
   "outputs": [],
   "source": [
    "y_pred"
   ]
  },
  {
   "cell_type": "code",
   "execution_count": null,
   "id": "dacdacf7",
   "metadata": {},
   "outputs": [],
   "source": [
    "y_pred[:10]"
   ]
  },
  {
   "cell_type": "code",
   "execution_count": null,
   "id": "0ce98e5e",
   "metadata": {},
   "outputs": [],
   "source": [
    "for index, val in enumerate(y_test):\n",
    "    print(val, end=' ')\n",
    "    if index==10:\n",
    "        break"
   ]
  },
  {
   "cell_type": "code",
   "execution_count": null,
   "id": "9a04290b",
   "metadata": {},
   "outputs": [],
   "source": [
    "*  "
   ]
  },
  {
   "cell_type": "code",
   "execution_count": 50,
   "id": "8ac69757",
   "metadata": {},
   "outputs": [
    {
     "data": {
      "text/html": [
       "<div>\n",
       "<style scoped>\n",
       "    .dataframe tbody tr th:only-of-type {\n",
       "        vertical-align: middle;\n",
       "    }\n",
       "\n",
       "    .dataframe tbody tr th {\n",
       "        vertical-align: top;\n",
       "    }\n",
       "\n",
       "    .dataframe thead th {\n",
       "        text-align: right;\n",
       "    }\n",
       "</style>\n",
       "<table border=\"1\" class=\"dataframe\">\n",
       "  <thead>\n",
       "    <tr style=\"text-align: right;\">\n",
       "      <th></th>\n",
       "      <th>brand</th>\n",
       "      <th>model</th>\n",
       "      <th>model_year</th>\n",
       "      <th>milage</th>\n",
       "      <th>fuel_type</th>\n",
       "      <th>engine</th>\n",
       "      <th>transmission</th>\n",
       "      <th>ext_col</th>\n",
       "      <th>int_col</th>\n",
       "      <th>accident</th>\n",
       "    </tr>\n",
       "  </thead>\n",
       "  <tbody>\n",
       "    <tr>\n",
       "      <th>1240</th>\n",
       "      <td>46</td>\n",
       "      <td>789</td>\n",
       "      <td>2013</td>\n",
       "      <td>172</td>\n",
       "      <td>2</td>\n",
       "      <td>51</td>\n",
       "      <td>27</td>\n",
       "      <td>8</td>\n",
       "      <td>0</td>\n",
       "      <td>1</td>\n",
       "    </tr>\n",
       "    <tr>\n",
       "      <th>2598</th>\n",
       "      <td>23</td>\n",
       "      <td>1375</td>\n",
       "      <td>2018</td>\n",
       "      <td>1494</td>\n",
       "      <td>2</td>\n",
       "      <td>654</td>\n",
       "      <td>24</td>\n",
       "      <td>94</td>\n",
       "      <td>1</td>\n",
       "      <td>1</td>\n",
       "    </tr>\n",
       "    <tr>\n",
       "      <th>1439</th>\n",
       "      <td>3</td>\n",
       "      <td>1108</td>\n",
       "      <td>2022</td>\n",
       "      <td>2054</td>\n",
       "      <td>2</td>\n",
       "      <td>786</td>\n",
       "      <td>19</td>\n",
       "      <td>114</td>\n",
       "      <td>1</td>\n",
       "      <td>1</td>\n",
       "    </tr>\n",
       "    <tr>\n",
       "      <th>2768</th>\n",
       "      <td>34</td>\n",
       "      <td>298</td>\n",
       "      <td>2021</td>\n",
       "      <td>682</td>\n",
       "      <td>2</td>\n",
       "      <td>326</td>\n",
       "      <td>24</td>\n",
       "      <td>14</td>\n",
       "      <td>0</td>\n",
       "      <td>1</td>\n",
       "    </tr>\n",
       "    <tr>\n",
       "      <th>1365</th>\n",
       "      <td>21</td>\n",
       "      <td>624</td>\n",
       "      <td>2017</td>\n",
       "      <td>1096</td>\n",
       "      <td>2</td>\n",
       "      <td>672</td>\n",
       "      <td>19</td>\n",
       "      <td>8</td>\n",
       "      <td>1</td>\n",
       "      <td>1</td>\n",
       "    </tr>\n",
       "  </tbody>\n",
       "</table>\n",
       "</div>"
      ],
      "text/plain": [
       "      brand  model  model_year  milage  fuel_type  engine  transmission  \\\n",
       "1240     46    789        2013     172          2      51            27   \n",
       "2598     23   1375        2018    1494          2     654            24   \n",
       "1439      3   1108        2022    2054          2     786            19   \n",
       "2768     34    298        2021     682          2     326            24   \n",
       "1365     21    624        2017    1096          2     672            19   \n",
       "\n",
       "      ext_col  int_col  accident  \n",
       "1240        8        0         1  \n",
       "2598       94        1         1  \n",
       "1439      114        1         1  \n",
       "2768       14        0         1  \n",
       "1365        8        1         1  "
      ]
     },
     "execution_count": 50,
     "metadata": {},
     "output_type": "execute_result"
    }
   ],
   "source": [
    "x_test.head()"
   ]
  },
  {
   "cell_type": "code",
   "execution_count": 55,
   "id": "ef91a7dd",
   "metadata": {},
   "outputs": [
    {
     "data": {
      "text/html": [
       "<div>\n",
       "<style scoped>\n",
       "    .dataframe tbody tr th:only-of-type {\n",
       "        vertical-align: middle;\n",
       "    }\n",
       "\n",
       "    .dataframe tbody tr th {\n",
       "        vertical-align: top;\n",
       "    }\n",
       "\n",
       "    .dataframe thead th {\n",
       "        text-align: right;\n",
       "    }\n",
       "</style>\n",
       "<table border=\"1\" class=\"dataframe\">\n",
       "  <thead>\n",
       "    <tr style=\"text-align: right;\">\n",
       "      <th></th>\n",
       "      <th>brand</th>\n",
       "      <th>model</th>\n",
       "      <th>model_year</th>\n",
       "      <th>milage</th>\n",
       "      <th>fuel_type</th>\n",
       "      <th>engine</th>\n",
       "      <th>transmission</th>\n",
       "      <th>ext_col</th>\n",
       "      <th>int_col</th>\n",
       "      <th>accident</th>\n",
       "    </tr>\n",
       "  </thead>\n",
       "  <tbody>\n",
       "    <tr>\n",
       "      <th>0</th>\n",
       "      <td>67</td>\n",
       "      <td>435</td>\n",
       "      <td>2024</td>\n",
       "      <td>546</td>\n",
       "      <td>3</td>\n",
       "      <td>734</td>\n",
       "      <td>77</td>\n",
       "      <td>67</td>\n",
       "      <td>67</td>\n",
       "      <td>1</td>\n",
       "    </tr>\n",
       "  </tbody>\n",
       "</table>\n",
       "</div>"
      ],
      "text/plain": [
       "   brand  model  model_year  milage  fuel_type  engine  transmission  ext_col  \\\n",
       "0     67    435        2024     546          3     734            77       67   \n",
       "\n",
       "   int_col  accident  \n",
       "0       67         1  "
      ]
     },
     "execution_count": 55,
     "metadata": {},
     "output_type": "execute_result"
    }
   ],
   "source": []
  },
  {
   "cell_type": "code",
   "execution_count": null,
   "id": "53058129",
   "metadata": {},
   "outputs": [],
   "source": []
  },
  {
   "cell_type": "code",
   "execution_count": 56,
   "id": "70792fd6",
   "metadata": {},
   "outputs": [
    {
     "data": {
      "text/plain": [
       "['model1.keras']"
      ]
     },
     "execution_count": 56,
     "metadata": {},
     "output_type": "execute_result"
    }
   ],
   "source": [
    "joblib.dump(pipeline, 'model1.keras')"
   ]
  },
  {
   "cell_type": "code",
   "execution_count": 57,
   "id": "8ec1612b",
   "metadata": {},
   "outputs": [],
   "source": [
    "t_model = joblib.load('model1.keras')"
   ]
  },
  {
   "cell_type": "code",
   "execution_count": null,
   "id": "dcd94f3b",
   "metadata": {},
   "outputs": [],
   "source": []
  },
  {
   "cell_type": "code",
   "execution_count": 58,
   "id": "650f88a2",
   "metadata": {},
   "outputs": [],
   "source": [
    "pred = t_model.predict(test)"
   ]
  },
  {
   "cell_type": "code",
   "execution_count": 59,
   "id": "2f5643fc",
   "metadata": {},
   "outputs": [
    {
     "data": {
      "text/plain": [
       "array([15000], dtype=int64)"
      ]
     },
     "execution_count": 59,
     "metadata": {},
     "output_type": "execute_result"
    }
   ],
   "source": [
    "pred\n"
   ]
  },
  {
   "cell_type": "code",
   "execution_count": 60,
   "id": "c0105b63",
   "metadata": {},
   "outputs": [
    {
     "data": {
      "text/html": [
       "<div>\n",
       "<style scoped>\n",
       "    .dataframe tbody tr th:only-of-type {\n",
       "        vertical-align: middle;\n",
       "    }\n",
       "\n",
       "    .dataframe tbody tr th {\n",
       "        vertical-align: top;\n",
       "    }\n",
       "\n",
       "    .dataframe thead th {\n",
       "        text-align: right;\n",
       "    }\n",
       "</style>\n",
       "<table border=\"1\" class=\"dataframe\">\n",
       "  <thead>\n",
       "    <tr style=\"text-align: right;\">\n",
       "      <th></th>\n",
       "      <th>brand</th>\n",
       "      <th>model</th>\n",
       "      <th>model_year</th>\n",
       "      <th>milage</th>\n",
       "      <th>fuel_type</th>\n",
       "      <th>engine</th>\n",
       "      <th>transmission</th>\n",
       "      <th>ext_col</th>\n",
       "      <th>int_col</th>\n",
       "      <th>accident</th>\n",
       "      <th>price</th>\n",
       "    </tr>\n",
       "  </thead>\n",
       "  <tbody>\n",
       "    <tr>\n",
       "      <th>0</th>\n",
       "      <td>14</td>\n",
       "      <td>1481</td>\n",
       "      <td>2013</td>\n",
       "      <td>1413</td>\n",
       "      <td>1</td>\n",
       "      <td>492</td>\n",
       "      <td>7</td>\n",
       "      <td>8</td>\n",
       "      <td>1</td>\n",
       "      <td>0</td>\n",
       "      <td>10300</td>\n",
       "    </tr>\n",
       "  </tbody>\n",
       "</table>\n",
       "</div>"
      ],
      "text/plain": [
       "   brand  model  model_year  milage  fuel_type  engine  transmission  ext_col  \\\n",
       "0     14   1481        2013    1413          1     492             7        8   \n",
       "\n",
       "   int_col  accident  price  \n",
       "0        1         0  10300  "
      ]
     },
     "execution_count": 60,
     "metadata": {},
     "output_type": "execute_result"
    }
   ],
   "source": [
    "df.head(1)"
   ]
  },
  {
   "cell_type": "code",
   "execution_count": 61,
   "id": "4bfc3d21",
   "metadata": {},
   "outputs": [
    {
     "data": {
      "text/plain": [
       "0"
      ]
     },
     "execution_count": 61,
     "metadata": {},
     "output_type": "execute_result"
    }
   ],
   "source": [
    "df['brand'].min()"
   ]
  },
  {
   "cell_type": "code",
   "execution_count": 62,
   "id": "33213f9e",
   "metadata": {},
   "outputs": [
    {
     "data": {
      "text/plain": [
       "51"
      ]
     },
     "execution_count": 62,
     "metadata": {},
     "output_type": "execute_result"
    }
   ],
   "source": [
    "df['brand'].max()"
   ]
  },
  {
   "cell_type": "code",
   "execution_count": 63,
   "id": "fa879966",
   "metadata": {},
   "outputs": [
    {
     "data": {
      "text/plain": [
       "0"
      ]
     },
     "execution_count": 63,
     "metadata": {},
     "output_type": "execute_result"
    }
   ],
   "source": [
    "df['model'].min()"
   ]
  },
  {
   "cell_type": "code",
   "execution_count": 64,
   "id": "378e6d55",
   "metadata": {},
   "outputs": [
    {
     "data": {
      "text/plain": [
       "1613"
      ]
     },
     "execution_count": 64,
     "metadata": {},
     "output_type": "execute_result"
    }
   ],
   "source": [
    "df['model'].max()"
   ]
  },
  {
   "cell_type": "code",
   "execution_count": 65,
   "id": "c38a71c2",
   "metadata": {},
   "outputs": [
    {
     "data": {
      "text/plain": [
       "1974"
      ]
     },
     "execution_count": 65,
     "metadata": {},
     "output_type": "execute_result"
    }
   ],
   "source": [
    "df['model_year'].min()"
   ]
  },
  {
   "cell_type": "code",
   "execution_count": 66,
   "id": "3a60698c",
   "metadata": {},
   "outputs": [
    {
     "data": {
      "text/plain": [
       "2024"
      ]
     },
     "execution_count": 66,
     "metadata": {},
     "output_type": "execute_result"
    }
   ],
   "source": [
    "df['model_year'].max()"
   ]
  },
  {
   "cell_type": "code",
   "execution_count": 67,
   "id": "697f6049",
   "metadata": {},
   "outputs": [
    {
     "data": {
      "text/plain": [
       "0"
      ]
     },
     "execution_count": 67,
     "metadata": {},
     "output_type": "execute_result"
    }
   ],
   "source": [
    "df['milage'].min()"
   ]
  },
  {
   "cell_type": "code",
   "execution_count": 68,
   "id": "1ffc092d",
   "metadata": {},
   "outputs": [
    {
     "data": {
      "text/plain": [
       "2193"
      ]
     },
     "execution_count": 68,
     "metadata": {},
     "output_type": "execute_result"
    }
   ],
   "source": [
    "df['milage'].max()"
   ]
  },
  {
   "cell_type": "code",
   "execution_count": 69,
   "id": "01381bee",
   "metadata": {},
   "outputs": [
    {
     "data": {
      "text/plain": [
       "0"
      ]
     },
     "execution_count": 69,
     "metadata": {},
     "output_type": "execute_result"
    }
   ],
   "source": [
    "df['fuel_type'].min()"
   ]
  },
  {
   "cell_type": "code",
   "execution_count": 70,
   "id": "c138ebb9",
   "metadata": {},
   "outputs": [
    {
     "data": {
      "text/plain": [
       "6"
      ]
     },
     "execution_count": 70,
     "metadata": {},
     "output_type": "execute_result"
    }
   ],
   "source": [
    "df.fuel_type.max()"
   ]
  },
  {
   "cell_type": "code",
   "execution_count": 71,
   "id": "8579c01c",
   "metadata": {},
   "outputs": [
    {
     "data": {
      "text/plain": [
       "0"
      ]
     },
     "execution_count": 71,
     "metadata": {},
     "output_type": "execute_result"
    }
   ],
   "source": [
    "df.engine.min()"
   ]
  },
  {
   "cell_type": "code",
   "execution_count": 72,
   "id": "fd8e16ea",
   "metadata": {},
   "outputs": [
    {
     "data": {
      "text/plain": [
       "962"
      ]
     },
     "execution_count": 72,
     "metadata": {},
     "output_type": "execute_result"
    }
   ],
   "source": [
    "df.engine.max()"
   ]
  },
  {
   "cell_type": "code",
   "execution_count": 73,
   "id": "2ded8317",
   "metadata": {},
   "outputs": [
    {
     "data": {
      "text/plain": [
       "0"
      ]
     },
     "execution_count": 73,
     "metadata": {},
     "output_type": "execute_result"
    }
   ],
   "source": [
    "df.transmission.min()"
   ]
  },
  {
   "cell_type": "code",
   "execution_count": 75,
   "id": "8eaf625e",
   "metadata": {},
   "outputs": [
    {
     "data": {
      "text/plain": [
       "31"
      ]
     },
     "execution_count": 75,
     "metadata": {},
     "output_type": "execute_result"
    }
   ],
   "source": [
    "df.transmission.max()"
   ]
  },
  {
   "cell_type": "code",
   "execution_count": 76,
   "id": "bb776869",
   "metadata": {},
   "outputs": [
    {
     "data": {
      "text/plain": [
       "0"
      ]
     },
     "execution_count": 76,
     "metadata": {},
     "output_type": "execute_result"
    }
   ],
   "source": [
    "df['ext_col'].min()"
   ]
  },
  {
   "cell_type": "code",
   "execution_count": 77,
   "id": "43be9ba3",
   "metadata": {},
   "outputs": [
    {
     "data": {
      "text/plain": [
       "119"
      ]
     },
     "execution_count": 77,
     "metadata": {},
     "output_type": "execute_result"
    }
   ],
   "source": [
    "df['ext_col'].max()"
   ]
  },
  {
   "cell_type": "code",
   "execution_count": 78,
   "id": "94f4da5e",
   "metadata": {},
   "outputs": [
    {
     "data": {
      "text/plain": [
       "73"
      ]
     },
     "execution_count": 78,
     "metadata": {},
     "output_type": "execute_result"
    }
   ],
   "source": [
    "df['int_col'].max()"
   ]
  },
  {
   "cell_type": "code",
   "execution_count": 80,
   "id": "b149a9d4",
   "metadata": {},
   "outputs": [
    {
     "name": "stdout",
     "output_type": "stream",
     "text": [
      "brand Min : 0\n",
      "brand Max : 51\n",
      "model Min : 0\n",
      "model Max : 1613\n",
      "model_year Min : 1974\n",
      "model_year Max : 2024\n",
      "milage Min : 0\n",
      "milage Max : 2193\n",
      "fuel_type Min : 0\n",
      "fuel_type Max : 6\n",
      "engine Min : 0\n",
      "engine Max : 962\n",
      "transmission Min : 0\n",
      "transmission Max : 31\n",
      "ext_col Min : 0\n",
      "ext_col Max : 119\n",
      "int_col Min : 0\n",
      "int_col Max : 73\n",
      "accident Min : 0\n",
      "accident Max : 1\n",
      "price Min : 1599\n",
      "price Max : 749950\n"
     ]
    }
   ],
   "source": [
    "for col in df.columns:\n",
    "    print(col, \"Min :\", df[col].min())\n",
    "    print(col, 'Max :', df[col].max())\n",
    "    "
   ]
  },
  {
   "cell_type": "code",
   "execution_count": null,
   "id": "8dbbea3a",
   "metadata": {},
   "outputs": [],
   "source": []
  }
 ],
 "metadata": {
  "kernelspec": {
   "display_name": "Python 3 (ipykernel)",
   "language": "python",
   "name": "python3"
  },
  "language_info": {
   "codemirror_mode": {
    "name": "ipython",
    "version": 3
   },
   "file_extension": ".py",
   "mimetype": "text/x-python",
   "name": "python",
   "nbconvert_exporter": "python",
   "pygments_lexer": "ipython3",
   "version": "3.11.5"
  }
 },
 "nbformat": 4,
 "nbformat_minor": 5
}
